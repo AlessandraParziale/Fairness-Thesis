{
  "nbformat": 4,
  "nbformat_minor": 0,
  "metadata": {
    "colab": {
      "provenance": [],
      "collapsed_sections": [
        "8ljx60YV2jnW",
        "GDQ31JbC2h_N",
        "1NebN68S2z5G",
        "ucQF5IAu3T__",
        "TbgVecH74WyC",
        "zIDxdmDfH-VT"
      ],
      "authorship_tag": "ABX9TyMGRsbGCbO4UKJ0egMj5l6W",
      "include_colab_link": true
    },
    "kernelspec": {
      "name": "python3",
      "display_name": "Python 3"
    },
    "language_info": {
      "name": "python"
    }
  },
  "cells": [
    {
      "cell_type": "markdown",
      "metadata": {
        "id": "view-in-github",
        "colab_type": "text"
      },
      "source": [
        "<a href=\"https://colab.research.google.com/github/AlessandraParziale/Fairness-Thesis/blob/main/GERMAN_CREDIT_DATASET.ipynb\" target=\"_parent\"><img src=\"https://colab.research.google.com/assets/colab-badge.svg\" alt=\"Open In Colab\"/></a>"
      ]
    },
    {
      "cell_type": "markdown",
      "source": [
        "# **GERMAN CREDIT**\n",
        "\n",
        "[Questo set di dati ha 20 funzionalità e 1000 righe. Gli attributi protetti sono gender_status ed age (>25 è privilegiato). Classifica la decisione di credito come rischio di credito buono o cattivo.]"
      ],
      "metadata": {
        "id": "K5ZE0KL32QFz"
      }
    },
    {
      "cell_type": "markdown",
      "source": [
        "## ***Classification***"
      ],
      "metadata": {
        "id": "8ljx60YV2jnW"
      }
    },
    {
      "cell_type": "markdown",
      "source": [
        "### Loading the Data"
      ],
      "metadata": {
        "id": "GDQ31JbC2h_N"
      }
    },
    {
      "cell_type": "code",
      "source": [
        "import pandas as pd\n",
        "import os\n",
        "import requests\n",
        "\n",
        "from sklearn.preprocessing import LabelEncoder\n",
        "from sklearn.datasets import fetch_openml\n",
        "from sklearn.metrics import confusion_matrix, accuracy_score, classification_report, precision_score, recall_score\n",
        "from sklearn.model_selection import train_test_split\n",
        "from sklearn.ensemble import RandomForestClassifier\n",
        "from sklearn.linear_model import LogisticRegression\n",
        "import xgboost as xgb\n",
        "from sklearn.tree import DecisionTreeClassifier"
      ],
      "metadata": {
        "id": "vaux69yy2KAH"
      },
      "execution_count": 22,
      "outputs": []
    },
    {
      "cell_type": "code",
      "execution_count": 23,
      "metadata": {
        "id": "s7EzFDeXm52Y",
        "colab": {
          "base_uri": "https://localhost:8080/"
        },
        "outputId": "13bb983b-a6b1-4113-b628-20d4465f0559"
      },
      "outputs": [
        {
          "output_type": "stream",
          "name": "stdout",
          "text": [
            "[0 1]\n",
            "    status  duration credit_history purpose  credit_amount savings employment  \\\n",
            "0      A11         6            A34     A43           1169     A65        A75   \n",
            "1      A12        48            A32     A43           5951     A61        A73   \n",
            "2      A14        12            A34     A46           2096     A61        A74   \n",
            "3      A11        42            A32     A42           7882     A61        A74   \n",
            "4      A11        24            A33     A40           4870     A61        A73   \n",
            "..     ...       ...            ...     ...            ...     ...        ...   \n",
            "995    A14        12            A32     A42           1736     A61        A74   \n",
            "996    A11        30            A32     A41           3857     A61        A73   \n",
            "997    A14        12            A32     A43            804     A61        A75   \n",
            "998    A11        45            A32     A43           1845     A61        A73   \n",
            "999    A12        45            A34     A41           4576     A62        A71   \n",
            "\n",
            "     installment_rate                      gender_status other_debtors  ...  \\\n",
            "0                   4                        male_single          A101  ...   \n",
            "1                   2  female_divorced_separated_married          A101  ...   \n",
            "2                   2                        male_single          A101  ...   \n",
            "3                   2                        male_single          A103  ...   \n",
            "4                   3                        male_single          A101  ...   \n",
            "..                ...                                ...           ...  ...   \n",
            "995                 3  female_divorced_separated_married          A101  ...   \n",
            "996                 4            male_divorced_separated          A101  ...   \n",
            "997                 4                        male_single          A101  ...   \n",
            "998                 4                        male_single          A101  ...   \n",
            "999                 3                        male_single          A101  ...   \n",
            "\n",
            "     property age  installment_plans housing existing_credits  skill_level  \\\n",
            "0        A121  67               A143    A152                2         A173   \n",
            "1        A121  22               A143    A152                1         A173   \n",
            "2        A121  49               A143    A152                1         A172   \n",
            "3        A122  45               A143    A153                1         A173   \n",
            "4        A124  53               A143    A153                2         A173   \n",
            "..        ...  ..                ...     ...              ...          ...   \n",
            "995      A121  31               A143    A152                1         A172   \n",
            "996      A122  40               A143    A152                1         A174   \n",
            "997      A123  38               A143    A152                1         A173   \n",
            "998      A124  23               A143    A153                1         A173   \n",
            "999      A123  27               A143    A152                1         A173   \n",
            "\n",
            "    people_liable  telephone foreign_worker label  \n",
            "0               1       A192           A201     0  \n",
            "1               1       A191           A201     1  \n",
            "2               2       A191           A201     0  \n",
            "3               2       A191           A201     0  \n",
            "4               2       A191           A201     1  \n",
            "..            ...        ...            ...   ...  \n",
            "995             1       A191           A201     0  \n",
            "996             1       A192           A201     0  \n",
            "997             1       A191           A201     0  \n",
            "998             1       A192           A201     1  \n",
            "999             1       A191           A201     0  \n",
            "\n",
            "[1000 rows x 21 columns]\n",
            "Numero di colonne nel DataFrame X: 21\n"
          ]
        }
      ],
      "source": [
        "DATA_DIR = \"/content/GERMAN_CREDIT-Classification\"\n",
        "\n",
        "if not os.path.exists(DATA_DIR):\n",
        "    os.makedirs(DATA_DIR)\n",
        "\n",
        "def ensure_download(url, fname):\n",
        "    \"\"\"\n",
        "    Controlla se il dataset è già presente nella directory dei dati.\n",
        "    Lo scarica se non presente.\n",
        "    \"\"\"\n",
        "    fpath = f\"{DATA_DIR}/{fname}\"\n",
        "    if not os.path.isfile(fpath):\n",
        "        response = requests.get(url)\n",
        "        with open(fpath, 'wb') as file:\n",
        "            file.write(response.content)\n",
        "\n",
        "def load_german():\n",
        "    url = \"https://archive.ics.uci.edu/ml/machine-learning-databases/statlog/german/german.data\"\n",
        "    fname = \"german.csv\"\n",
        "    ensure_download(url, fname)\n",
        "\n",
        "\n",
        "    fpath = f\"{DATA_DIR}/{fname}\"\n",
        "\n",
        "    cols = [\n",
        "        \"status\", \"duration\", \"credit_history\",\n",
        "        \"purpose\", \"credit_amount\", \"savings\", \"employment\",\n",
        "        \"installment_rate\", \"gender_status\",\n",
        "        \"other_debtors\", \"residence_since\", \"property\", \"age\",\n",
        "        \"installment_plans\", \"housing\", \"existing_credits\",\n",
        "        \"skill_level\", \"people_liable\", \"telephone\",\n",
        "        \"foreign_worker\", \"label\"\n",
        "    ]\n",
        "    df = pd.read_csv(fpath, header=None, names=cols, delim_whitespace=True)\n",
        "\n",
        "    df = df.dropna()\n",
        "\n",
        "    gender_status = {\n",
        "        \"A91\": \"male_divorced_separated\",\n",
        "        \"A92\": \"female_divorced_separated_married\",\n",
        "        \"A93\": \"male_single\",\n",
        "        \"A94\": \"male_married_widowed\",\n",
        "        \"A95\": \"female_single\"\n",
        "    }\n",
        "\n",
        "\n",
        "\n",
        "    df['gender_status'] = df['gender_status'].map(gender_status)\n",
        "\n",
        "    y = df['label']\n",
        "    X = df.drop('label', axis=1)\n",
        "\n",
        "    y.replace({1: 0, 2: 1}, inplace=True)\n",
        "\n",
        "    print(y.unique())\n",
        "\n",
        "    print(df)\n",
        "    num_colonne_X = df.shape[1]\n",
        "    print(\"Numero di colonne nel DataFrame X:\", num_colonne_X)\n",
        "\n",
        "    return X, y\n",
        "\n",
        "X, y = load_german()\n"
      ]
    },
    {
      "cell_type": "code",
      "source": [
        "# Applicazione label encoding a tutte le colonne categoriche\n",
        "\n",
        "\n",
        "categorical_cols = X.select_dtypes(include=['object']).columns\n",
        "\n",
        "label_encoder = LabelEncoder()\n",
        "\n",
        "for col in categorical_cols:\n",
        "    X[col] = label_encoder.fit_transform(X[col])\n",
        "\n",
        "print(X.head())"
      ],
      "metadata": {
        "colab": {
          "base_uri": "https://localhost:8080/"
        },
        "id": "POZLTpU413Bd",
        "outputId": "f9e1cb07-3fca-40e5-85b1-3c487e803b6a"
      },
      "execution_count": 24,
      "outputs": [
        {
          "output_type": "stream",
          "name": "stdout",
          "text": [
            "   status  duration  credit_history  purpose  credit_amount  savings  \\\n",
            "0       0         6               4        4           1169        4   \n",
            "1       1        48               2        4           5951        0   \n",
            "2       3        12               4        7           2096        0   \n",
            "3       0        42               2        3           7882        0   \n",
            "4       0        24               3        0           4870        0   \n",
            "\n",
            "   employment  installment_rate  gender_status  other_debtors  \\\n",
            "0           4                 4              3              0   \n",
            "1           2                 2              0              0   \n",
            "2           3                 2              3              0   \n",
            "3           3                 2              3              2   \n",
            "4           2                 3              3              0   \n",
            "\n",
            "   residence_since  property  age  installment_plans  housing  \\\n",
            "0                4         0   67                  2        1   \n",
            "1                2         0   22                  2        1   \n",
            "2                3         0   49                  2        1   \n",
            "3                4         1   45                  2        2   \n",
            "4                4         3   53                  2        2   \n",
            "\n",
            "   existing_credits  skill_level  people_liable  telephone  foreign_worker  \n",
            "0                 2            2              1          1               0  \n",
            "1                 1            2              1          0               0  \n",
            "2                 1            1              2          0               0  \n",
            "3                 1            2              2          0               0  \n",
            "4                 2            2              2          0               0  \n"
          ]
        }
      ]
    },
    {
      "cell_type": "markdown",
      "source": [
        "---\n",
        "### **Random Forest Model**"
      ],
      "metadata": {
        "id": "1NebN68S2z5G"
      }
    },
    {
      "cell_type": "code",
      "source": [
        "X_train, X_test, y_train, y_test = train_test_split(X, y, test_size=0.2, random_state=42)\n",
        "\n",
        "random_forest = RandomForestClassifier(n_estimators=100, random_state=42)\n",
        "\n",
        "random_forest.fit(X_train, y_train)\n",
        "\n",
        "y_pred = random_forest.predict(X_test)"
      ],
      "metadata": {
        "id": "pH3IVYlB22v2"
      },
      "execution_count": null,
      "outputs": []
    },
    {
      "cell_type": "code",
      "source": [
        "# Valutazione modello\n",
        "\n",
        "# Confusion Matrix\n",
        "conf_matrix = confusion_matrix(y_test, y_pred)\n",
        "\n",
        "# Precision\n",
        "precision = precision_score(y_test, y_pred)\n",
        "\n",
        "# Recall\n",
        "recall = recall_score(y_test, y_pred)\n",
        "\n",
        "# CAccuracy\n",
        "accuracy = accuracy_score(y_test, y_pred)\n",
        "\n",
        "print(\"Confusion Matrix Random Forest:\", conf_matrix)\n",
        "print(\"Accuracy Random Forest:\", accuracy)\n",
        "print(\"Precision Random Forest:\", precision)\n",
        "print(\"Recall Random Forest:\", recall)"
      ],
      "metadata": {
        "colab": {
          "base_uri": "https://localhost:8080/"
        },
        "id": "OquwX7YD3FQN",
        "outputId": "42e551ee-1165-4e11-e216-125ffe1722d8"
      },
      "execution_count": null,
      "outputs": [
        {
          "output_type": "stream",
          "name": "stdout",
          "text": [
            "Confusion Matrix Random Forest: [[132   9]\n",
            " [ 29  30]]\n",
            "Accuracy Random Forest: 0.81\n",
            "Precision Random Forest: 0.7692307692307693\n",
            "Recall Random Forest: 0.5084745762711864\n"
          ]
        }
      ]
    },
    {
      "cell_type": "markdown",
      "source": [
        "---\n",
        "\n",
        "### **Logistic Regression Model**"
      ],
      "metadata": {
        "id": "ucQF5IAu3T__"
      }
    },
    {
      "cell_type": "code",
      "source": [
        "X_train, X_test, y_train, y_test = train_test_split(X, y, test_size=0.2, random_state=42)\n",
        "\n",
        "logistic_regression = LogisticRegression(random_state=42, max_iter=1000)\n",
        "\n",
        "logistic_regression.fit(X_train, y_train)\n",
        "\n",
        "y_pred_lr = logistic_regression.predict(X_test)"
      ],
      "metadata": {
        "id": "OzkhC7P139OF"
      },
      "execution_count": null,
      "outputs": []
    },
    {
      "cell_type": "code",
      "source": [
        "# Valutazione modello\n",
        "\n",
        "# Confusion Matrix\n",
        "conf_matrix_lr = confusion_matrix(y_test, y_pred_lr)\n",
        "\n",
        "# Precision\n",
        "precision_lr = precision_score(y_test, y_pred_lr)\n",
        "\n",
        "# Recall\n",
        "recall_lr = recall_score(y_test, y_pred_lr)\n",
        "\n",
        "# Accuracy\n",
        "accuracy_lr = accuracy_score(y_test, y_pred_lr)\n",
        "\n",
        "print(\"Confusion Matrix Logistic Regression:\", conf_matrix_lr)\n",
        "print(\"Accuracy Logistic Regression:\", accuracy_lr)\n",
        "print(\"Precision Logistic Regression:\", precision_lr)\n",
        "print(\"Recall Logistic Regression:\", recall_lr)"
      ],
      "metadata": {
        "colab": {
          "base_uri": "https://localhost:8080/"
        },
        "id": "bhIL1GJq4Ii6",
        "outputId": "9cdda0cc-d63c-4a37-9eea-dd78cba96eb1"
      },
      "execution_count": null,
      "outputs": [
        {
          "output_type": "stream",
          "name": "stdout",
          "text": [
            "Confusion Matrix Logistic Regression: [[127  14]\n",
            " [ 31  28]]\n",
            "Accuracy Logistic Regression: 0.775\n",
            "Precision Logistic Regression: 0.6666666666666666\n",
            "Recall Logistic Regression: 0.4745762711864407\n"
          ]
        }
      ]
    },
    {
      "cell_type": "markdown",
      "source": [
        "---\n",
        "### **eXtreme Gradient Boosting Model (XGBoost)**"
      ],
      "metadata": {
        "id": "TbgVecH74WyC"
      }
    },
    {
      "cell_type": "code",
      "source": [
        "X_train, X_test, y_train, y_test = train_test_split(X, y, test_size=0.2, random_state=42)\n",
        "\n",
        "xgb_model = xgb.XGBClassifier(random_state=42)\n",
        "\n",
        "xgb_model.fit(X_train, y_train)\n",
        "\n",
        "y_pred_xgb = xgb_model.predict(X_test)"
      ],
      "metadata": {
        "id": "T1UtD4hj4h5u"
      },
      "execution_count": null,
      "outputs": []
    },
    {
      "cell_type": "code",
      "source": [
        "# Valutazione modello\n",
        "\n",
        "# Confusion Matrix\n",
        "conf_matrix_xgb = confusion_matrix(y_test, y_pred_xgb)\n",
        "\n",
        "# Precision\n",
        "precision_xgb = precision_score(y_test, y_pred_xgb)\n",
        "\n",
        "# Recall\n",
        "recall_xgb = recall_score(y_test, y_pred_xgb)\n",
        "\n",
        "# Accuracy\n",
        "accuracy_xgb = accuracy_score(y_test, y_pred_xgb)\n",
        "\n",
        "print(\"Confusion Matrix XGBoost:\", conf_matrix_xgb)\n",
        "print(\"Accuracy XGBoost:\", accuracy_xgb)\n",
        "print(\"Precision XGBoost:\", precision_xgb)\n",
        "print(\"Recall XGBoost:\", recall_xgb)"
      ],
      "metadata": {
        "colab": {
          "base_uri": "https://localhost:8080/"
        },
        "id": "weRUQnD04kUN",
        "outputId": "47f9eaff-c2bd-4e8d-c736-e3e088a773ca"
      },
      "execution_count": null,
      "outputs": [
        {
          "output_type": "stream",
          "name": "stdout",
          "text": [
            "Confusion Matrix XGBoost: [[125  16]\n",
            " [ 24  35]]\n",
            "Accuracy XGBoost: 0.8\n",
            "Precision XGBoost: 0.6862745098039216\n",
            "Recall XGBoost: 0.5932203389830508\n"
          ]
        }
      ]
    },
    {
      "cell_type": "markdown",
      "source": [
        "---\n",
        "### **Decision Tree**"
      ],
      "metadata": {
        "id": "zIDxdmDfH-VT"
      }
    },
    {
      "cell_type": "code",
      "source": [
        "X_train, X_test, y_train, y_test = train_test_split(X, y, test_size=0.2, random_state=42)\n",
        "\n",
        "clf = DecisionTreeClassifier(random_state=42)\n",
        "\n",
        "clf.fit(X_train, y_train)\n",
        "\n",
        "y_pred_dt = clf.predict(X_test)"
      ],
      "metadata": {
        "id": "EwtqmWjsHkjW"
      },
      "execution_count": null,
      "outputs": []
    },
    {
      "cell_type": "code",
      "source": [
        "# Valutazione modello\n",
        "\n",
        "# Confusion Matrix\n",
        "conf_matrix_dt = confusion_matrix(y_test, y_pred_dt)\n",
        "\n",
        "# Precision\n",
        "precision_dt = precision_score(y_test, y_pred_dt)\n",
        "\n",
        "# Recall\n",
        "recall_dt = recall_score(y_test, y_pred_dt)\n",
        "\n",
        "# Accuracy\n",
        "accuracy_dt = accuracy_score(y_test, y_pred_dt)\n",
        "\n",
        "print(\"Confusion Matrix XGBoost:\", conf_matrix_dt)\n",
        "print(\"Accuracy XGBoost:\", accuracy_dt)\n",
        "print(\"Precision XGBoost:\", precision_dt)\n",
        "print(\"Recall XGBoost:\", recall_dt)"
      ],
      "metadata": {
        "colab": {
          "base_uri": "https://localhost:8080/"
        },
        "id": "7pRJtPcWIWDr",
        "outputId": "f6956cd4-8491-4e9b-f2d4-2041fbf95e15"
      },
      "execution_count": null,
      "outputs": [
        {
          "output_type": "stream",
          "name": "stdout",
          "text": [
            "Confusion Matrix XGBoost: [[120  21]\n",
            " [ 36  23]]\n",
            "Accuracy XGBoost: 0.715\n",
            "Precision XGBoost: 0.5227272727272727\n",
            "Recall XGBoost: 0.3898305084745763\n"
          ]
        }
      ]
    }
  ]
}