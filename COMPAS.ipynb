{
  "nbformat": 4,
  "nbformat_minor": 0,
  "metadata": {
    "colab": {
      "provenance": [],
      "collapsed_sections": [
        "nYdUv6JVH1l7",
        "8rZMAJx2xwdZ",
        "R44cwxUGzCtu",
        "vzcqOXZyzsKE",
        "PhsRnQ5xNytE",
        "Ju_yQ6BvIUVD",
        "hkx2r_oYlLp1"
      ],
      "authorship_tag": "ABX9TyNeJ9DCZv30oYVdIuwdHIyB",
      "include_colab_link": true
    },
    "kernelspec": {
      "name": "python3",
      "display_name": "Python 3"
    },
    "language_info": {
      "name": "python"
    }
  },
  "cells": [
    {
      "cell_type": "markdown",
      "metadata": {
        "id": "view-in-github",
        "colab_type": "text"
      },
      "source": [
        "<a href=\"https://colab.research.google.com/github/AlessandraParziale/Fairness-Thesis/blob/main/COMPAS.ipynb\" target=\"_parent\"><img src=\"https://colab.research.google.com/assets/colab-badge.svg\" alt=\"Open In Colab\"/></a>"
      ]
    },
    {
      "cell_type": "markdown",
      "source": [
        "# **COMPAS**\n",
        "\n",
        "[Una versione ridotta del Datset COMPAS con 8 funzioni e 6907 righe. Utilizzato per prevedere se un imputato penale avrà una recidiva.]"
      ],
      "metadata": {
        "id": "jmk3RAGLyQvW"
      }
    },
    {
      "cell_type": "markdown",
      "source": [
        "## ***Classification***"
      ],
      "metadata": {
        "id": "nYdUv6JVH1l7"
      }
    },
    {
      "cell_type": "markdown",
      "source": [
        "### Loading the Data\n"
      ],
      "metadata": {
        "id": "8rZMAJx2xwdZ"
      }
    },
    {
      "cell_type": "code",
      "source": [
        "import pandas as pd\n",
        "import xgboost as xgb\n",
        "import os\n",
        "import requests\n",
        "\n",
        "from sklearn.ensemble import RandomForestClassifier\n",
        "from sklearn.model_selection import train_test_split\n",
        "from sklearn.linear_model import LogisticRegression\n",
        "from sklearn.preprocessing import LabelEncoder\n",
        "from sklearn.metrics import confusion_matrix, accuracy_score, precision_score, recall_score\n"
      ],
      "metadata": {
        "id": "Z2OZtcduky4h"
      },
      "execution_count": null,
      "outputs": []
    },
    {
      "cell_type": "code",
      "source": [
        "DATA_DIR = \"/content/COMPAS-Classification\"\n",
        "\n",
        "\n",
        "if not os.path.exists(DATA_DIR):\n",
        "    os.makedirs(DATA_DIR)\n",
        "\n",
        "def ensure_download(url, fname):\n",
        "    fpath = f\"{DATA_DIR}/{fname}\"\n",
        "    if not os.path.isfile(fpath):\n",
        "        response = requests.get(url)\n",
        "        with open(fpath, 'wb') as file:\n",
        "            file.write(response.content)\n",
        "\n",
        "def load_compas():\n",
        "    url = \"https://raw.githubusercontent.com/propublica/compas-analysis/master/compas-scores-two-years.csv\"\n",
        "    fname = \"compas-scores-two-years.csv\"\n",
        "    ensure_download(url, fname)\n",
        "\n",
        "    fpath = f\"{DATA_DIR}/{fname}\"\n",
        "    data = pd.read_csv(fpath, delimiter=\",\")\n",
        "\n",
        "    # Selezione colonne\n",
        "    data = data[[\"sex\", \"age\", \"age_cat\", \"race\", \"c_charge_degree\", \"priors_count\", \"days_b_screening_arrest\", \"decile_score\", \"is_recid\"]]\n",
        "\n",
        "    data = data.dropna()\n",
        "\n",
        "    data[\"is_recid\"] = data[\"is_recid\"].astype(\"category\")\n",
        "\n",
        "    X = data[[\"sex\", \"age\", \"age_cat\", \"race\", \"c_charge_degree\", \"priors_count\", \"days_b_screening_arrest\", \"decile_score\"]]\n",
        "    y = data[\"is_recid\"]\n",
        "\n",
        "    print(data)\n",
        "    num_colonne_X = data.shape[1]\n",
        "    print(\"Numero di colonne nel DataFrame X:\", num_colonne_X)\n",
        "\n",
        "    return X, y\n",
        "\n",
        "# Carica i dati\n",
        "X, y = load_compas()"
      ],
      "metadata": {
        "id": "_y9nf405srVj",
        "colab": {
          "base_uri": "https://localhost:8080/"
        },
        "outputId": "27190dac-2ab0-4d5a-f771-91d7f06842b8"
      },
      "execution_count": null,
      "outputs": [
        {
          "output_type": "stream",
          "name": "stdout",
          "text": [
            "         sex  age          age_cat              race c_charge_degree  \\\n",
            "0       Male   69  Greater than 45             Other               F   \n",
            "1       Male   34          25 - 45  African-American               F   \n",
            "2       Male   24     Less than 25  African-American               F   \n",
            "5       Male   44          25 - 45             Other               M   \n",
            "6       Male   41          25 - 45         Caucasian               F   \n",
            "...      ...  ...              ...               ...             ...   \n",
            "7209    Male   23     Less than 25  African-American               F   \n",
            "7210    Male   23     Less than 25  African-American               F   \n",
            "7211    Male   57  Greater than 45             Other               F   \n",
            "7212  Female   33          25 - 45  African-American               M   \n",
            "7213  Female   23     Less than 25          Hispanic               F   \n",
            "\n",
            "      priors_count  days_b_screening_arrest  decile_score is_recid  \n",
            "0                0                     -1.0             1        0  \n",
            "1                0                     -1.0             3        1  \n",
            "2                4                     -1.0             4        1  \n",
            "5                0                      0.0             1        0  \n",
            "6               14                     -1.0             6        1  \n",
            "...            ...                      ...           ...      ...  \n",
            "7209             0                     -1.0             7        0  \n",
            "7210             0                     -1.0             3        0  \n",
            "7211             0                     -1.0             1        0  \n",
            "7212             3                     -1.0             2        0  \n",
            "7213             2                     -2.0             4        1  \n",
            "\n",
            "[6907 rows x 9 columns]\n",
            "Numero di colonne nel DataFrame X: 9\n"
          ]
        }
      ]
    },
    {
      "cell_type": "code",
      "source": [
        "# Applicazione label encoding a tutte le colonne categoriche in X\n",
        "categorical_cols = X.select_dtypes(include=['object']).columns\n",
        "label_encoder = LabelEncoder()\n",
        "\n",
        "for col in categorical_cols:\n",
        "    X[col] = label_encoder.fit_transform(X[col])\n",
        "\n",
        "print(X.head())"
      ],
      "metadata": {
        "colab": {
          "base_uri": "https://localhost:8080/"
        },
        "id": "yjzbqCrf4lCO",
        "outputId": "25f5dbe3-ab02-414d-8e10-22d7610ce4f1"
      },
      "execution_count": null,
      "outputs": [
        {
          "output_type": "stream",
          "name": "stdout",
          "text": [
            "   sex  age  age_cat  race  c_charge_degree  priors_count  \\\n",
            "0    1   69        1     5                0             0   \n",
            "1    1   34        0     0                0             0   \n",
            "2    1   24        2     0                0             4   \n",
            "5    1   44        0     5                1             0   \n",
            "6    1   41        0     2                0            14   \n",
            "\n",
            "   days_b_screening_arrest  decile_score  \n",
            "0                     -1.0             1  \n",
            "1                     -1.0             3  \n",
            "2                     -1.0             4  \n",
            "5                      0.0             1  \n",
            "6                     -1.0             6  \n"
          ]
        }
      ]
    },
    {
      "cell_type": "markdown",
      "source": [
        "---\n",
        "### **Random Forest Model**\n",
        "\n"
      ],
      "metadata": {
        "id": "R44cwxUGzCtu"
      }
    },
    {
      "cell_type": "code",
      "source": [
        "X_train, X_test, y_train, y_test = train_test_split(X, y, test_size=0.2, random_state=42)\n",
        "\n",
        "random_forest = RandomForestClassifier(n_estimators=100, random_state=42)\n",
        "\n",
        "random_forest.fit(X_train, y_train)\n",
        "\n",
        "y_pred = random_forest.predict(X_test)"
      ],
      "metadata": {
        "id": "k6e1u3gRypG3"
      },
      "execution_count": null,
      "outputs": []
    },
    {
      "cell_type": "code",
      "source": [
        "# Valutazione modello\n",
        "\n",
        "# Confusion Matrix\n",
        "conf_matrix = confusion_matrix(y_test, y_pred)\n",
        "\n",
        "# Precision\n",
        "precision = precision_score(y_test, y_pred)\n",
        "\n",
        "# Recall\n",
        "recall = recall_score(y_test, y_pred)\n",
        "\n",
        "# Accuracy\n",
        "accuracy = accuracy_score(y_test, y_pred)\n",
        "\n",
        "print(\"Confusion Matrix Random Forest:\", conf_matrix)\n",
        "print(\"Accuracy Random Forest:\", accuracy)\n",
        "print(\"Precision Random Forest:\", precision)\n",
        "print(\"Recall Random Forest:\", recall)"
      ],
      "metadata": {
        "colab": {
          "base_uri": "https://localhost:8080/"
        },
        "id": "BzqDItTduQJa",
        "outputId": "68d3fe6c-d54d-42f9-8ab7-fdb7cb5a50df"
      },
      "execution_count": null,
      "outputs": [
        {
          "output_type": "stream",
          "name": "stdout",
          "text": [
            "Numero di elementi in y_test: 1382\n",
            "Numero di elementi in y_pred: 1382\n",
            "Confusion Matrix Random Forest: [[448 240]\n",
            " [238 456]]\n",
            "Accuracy Random Forest: 0.6541244573082489\n",
            "Precision Random Forest: 0.6551724137931034\n",
            "Recall Random Forest: 0.6570605187319885\n"
          ]
        }
      ]
    },
    {
      "cell_type": "markdown",
      "source": [
        "\n",
        "\n",
        "---\n",
        "\n",
        "\n",
        "### **Logistic Regression Model**"
      ],
      "metadata": {
        "id": "vzcqOXZyzsKE"
      }
    },
    {
      "cell_type": "code",
      "source": [
        "X_train, X_test, y_train, y_test = train_test_split(X, y, test_size=0.2, random_state=42)\n",
        "\n",
        "logistic_regression = LogisticRegression(random_state=42, max_iter=1000)\n",
        "\n",
        "logistic_regression.fit(X_train, y_train)\n",
        "\n",
        "# Fai previsioni sul set di test\n",
        "y_pred_lr = logistic_regression.predict(X_test)\n"
      ],
      "metadata": {
        "id": "A8BfdqBDzrtn"
      },
      "execution_count": null,
      "outputs": []
    },
    {
      "cell_type": "code",
      "source": [
        "# Valutazione modello\n",
        "\n",
        "# Confusion Matrix\n",
        "conf_matrix_lr = confusion_matrix(y_test, y_pred_lr)\n",
        "\n",
        "# Precision\n",
        "precision_lr = precision_score(y_test, y_pred_lr)\n",
        "\n",
        "# Recall\n",
        "recall_lr = recall_score(y_test, y_pred_lr)\n",
        "\n",
        "# Accuracy\n",
        "accuracy_lr = accuracy_score(y_test, y_pred_lr)\n",
        "\n",
        "print(\"Confusion Matrix Logistic Regression [Classification]:\", conf_matrix_lr)\n",
        "print(\"Accuracy Logistic Regression [Classification]:\", accuracy_lr)\n",
        "print(\"Precision Logistic Regression [Classification]:\", precision_lr)\n",
        "print(\"Recall Logistic Regression [Classification]:\", recall_lr)"
      ],
      "metadata": {
        "colab": {
          "base_uri": "https://localhost:8080/"
        },
        "id": "ShtJHkod3pki",
        "outputId": "c279c7aa-ee1c-4508-e855-74d3128c40e5"
      },
      "execution_count": null,
      "outputs": [
        {
          "output_type": "stream",
          "name": "stdout",
          "text": [
            "Confusion Matrix Logistic Regression: [[498 190]\n",
            " [235 459]]\n",
            "Accuracy Logistic Regression: 0.6924746743849494\n",
            "Precision Logistic Regression: 0.7072419106317411\n",
            "Recall Logistic Regression: 0.6613832853025937\n"
          ]
        }
      ]
    },
    {
      "cell_type": "markdown",
      "source": [
        "---\n",
        "### **eXtreme Gradient Boosting Model (XGBoost)**"
      ],
      "metadata": {
        "id": "PhsRnQ5xNytE"
      }
    },
    {
      "cell_type": "code",
      "source": [
        "X_train, X_test, y_train, y_test = train_test_split(X, y, test_size=0.2, random_state=42)\n",
        "\n",
        "xgb_model = xgb.XGBClassifier(random_state=42)\n",
        "\n",
        "xgb_model.fit(X_train, y_train)\n",
        "\n",
        "y_pred_xgb = xgb_model.predict(X_test)\n"
      ],
      "metadata": {
        "id": "pvGjRitcL9vd"
      },
      "execution_count": null,
      "outputs": []
    },
    {
      "cell_type": "code",
      "source": [
        "# Valutazione modello\n",
        "\n",
        "# Confusion Matrix\n",
        "conf_matrix_xgb = confusion_matrix(y_test, y_pred_xgb)\n",
        "\n",
        "# Precision\n",
        "precision_xgb = precision_score(y_test, y_pred_xgb)\n",
        "\n",
        "# Recall\n",
        "recall_xgb = recall_score(y_test, y_pred_xgb)\n",
        "\n",
        "# Accuracy\n",
        "accuracy_xgb = accuracy_score(y_test, y_pred_xgb)\n",
        "\n",
        "print(\"Confusion Matrix XGBoost:\", conf_matrix_xgb)\n",
        "print(\"Accuracy XGBoost:\", accuracy_xgb)\n",
        "print(\"Precision XGBoost:\", precision_xgb)\n",
        "print(\"Recall XGBoost:\", recall_xgb)"
      ],
      "metadata": {
        "colab": {
          "base_uri": "https://localhost:8080/"
        },
        "id": "DojptB2fMcjU",
        "outputId": "fbcfcca0-fada-44c0-952c-cb606ffa5038"
      },
      "execution_count": null,
      "outputs": [
        {
          "output_type": "stream",
          "name": "stdout",
          "text": [
            "Confusion Matrix XGBoost: [[472 216]\n",
            " [254 440]]\n",
            "Accuracy XGBoost: 0.6599131693198264\n",
            "Precision XGBoost: 0.6707317073170732\n",
            "Recall XGBoost: 0.6340057636887608\n"
          ]
        }
      ]
    },
    {
      "cell_type": "markdown",
      "source": [
        "## ***Risk Assessment***"
      ],
      "metadata": {
        "id": "Ju_yQ6BvIUVD"
      }
    },
    {
      "cell_type": "markdown",
      "source": [
        "### Loading the Data"
      ],
      "metadata": {
        "id": "hkx2r_oYlLp1"
      }
    },
    {
      "cell_type": "code",
      "source": [
        "import pandas as pd\n",
        "import os\n",
        "import requests\n",
        "\n",
        "from sklearn.ensemble import RandomForestClassifier\n",
        "from sklearn.model_selection import train_test_split\n",
        "from sklearn.metrics import confusion_matrix, accuracy_score, precision_score, recall_score"
      ],
      "metadata": {
        "id": "HeCfok6blC5d"
      },
      "execution_count": null,
      "outputs": []
    },
    {
      "cell_type": "code",
      "source": [
        "DATA_DIR = \"/content/COMPAS-RiskAssessment\"\n",
        "\n",
        "if not os.path.exists(DATA_DIR):\n",
        "    os.makedirs(DATA_DIR)\n",
        "\n",
        "def ensure_download(url, fname):\n",
        "    fpath = f\"{DATA_DIR}/{fname}\"\n",
        "    if not os.path.isfile(fpath):\n",
        "        response = requests.get(url)\n",
        "        with open(fpath, 'wb') as file:\n",
        "            file.write(response.content)\n",
        "\n",
        "def load_compas():\n",
        "    url = \"https://raw.githubusercontent.com/propublica/compas-analysis/master/compas-scores-two-years.csv\"\n",
        "    fname = \"compas-scores-two-years.csv\"\n",
        "    ensure_download(url, fname)\n",
        "\n",
        "    fpath = f\"{DATA_DIR}/{fname}\"\n",
        "    data = pd.read_csv(fpath, delimiter=\",\")\n",
        "\n",
        "    data = data[[\"sex\", \"age\", \"age_cat\", \"race\", \"c_charge_degree\", \"priors_count\", \"days_b_screening_arrest\", \"decile_score\", \"is_recid\"]]\n",
        "\n",
        "    data = data.dropna()\n",
        "\n",
        "    data[\"is_recid\"] = data[\"is_recid\"].astype(\"category\")\n",
        "\n",
        "    X = data[[\"sex\", \"age\", \"age_cat\", \"race\", \"c_charge_degree\", \"priors_count\", \"days_b_screening_arrest\", \"decile_score\"]]\n",
        "    y = data[\"is_recid\"]\n",
        "\n",
        "    return X, y\n",
        "\n",
        "X, y = load_compas()"
      ],
      "metadata": {
        "id": "55fp6QF9lFUL"
      },
      "execution_count": null,
      "outputs": []
    },
    {
      "cell_type": "code",
      "source": [
        "# Applicazione label encoding a tutte le colonne categoriche in X\n",
        "categorical_cols = X.select_dtypes(include=['object']).columns\n",
        "label_encoder = LabelEncoder()\n",
        "\n",
        "for col in categorical_cols:\n",
        "    X[col] = label_encoder.fit_transform(X[col])\n",
        "\n",
        "print(X.head())"
      ],
      "metadata": {
        "colab": {
          "base_uri": "https://localhost:8080/"
        },
        "id": "FVGIhEjoN8gp",
        "outputId": "be489aea-5ea5-4f0f-e7d3-0436a9273530"
      },
      "execution_count": null,
      "outputs": [
        {
          "output_type": "stream",
          "name": "stdout",
          "text": [
            "   sex  age  age_cat  race  c_charge_degree  priors_count  \\\n",
            "0    1   69        1     5                0             0   \n",
            "1    1   34        0     0                0             0   \n",
            "2    1   24        2     0                0             4   \n",
            "5    1   44        0     5                1             0   \n",
            "6    1   41        0     2                0            14   \n",
            "\n",
            "   days_b_screening_arrest  decile_score  \n",
            "0                     -1.0             1  \n",
            "1                     -1.0             3  \n",
            "2                     -1.0             4  \n",
            "5                      0.0             1  \n",
            "6                     -1.0             6  \n"
          ]
        }
      ]
    },
    {
      "cell_type": "markdown",
      "source": [
        "\n",
        "---\n",
        "\n",
        "\n",
        "### **Logistic Regression Model**"
      ],
      "metadata": {
        "id": "LC41FNgNTe4z"
      }
    },
    {
      "cell_type": "code",
      "source": [
        "X_train, X_test, y_train, y_test = train_test_split(X, y, test_size=0.2, random_state=42)\n",
        "\n",
        "logistic_regression = LogisticRegression(random_state=42, max_iter=1000)\n",
        "\n",
        "logistic_regression.fit(X_train, y_train)\n",
        "\n",
        "y_pred_lr_ra = logistic_regression.predict(X_test)\n"
      ],
      "metadata": {
        "id": "uD60I1tqIQ6e"
      },
      "execution_count": null,
      "outputs": []
    },
    {
      "cell_type": "code",
      "source": [
        "# Valutazione modello\n",
        "\n",
        "# Precision\n",
        "precision_lr_ra = precision_score(y_test, y_pred_lr_ra)\n",
        "\n",
        "# Recall\n",
        "recall_lr_ra = recall_score(y_test, y_pred_lr_ra)\n",
        "\n",
        "# Accuracy\n",
        "accuracy_lr_ra = accuracy_score(y_test, y_pred_lr_ra)\n",
        "\n",
        "\n",
        "print(\"Accuracy Logistic Regression [Risk Assessment]:\", accuracy_lr_ra)\n",
        "print(\"Precision Logistic Regression [Risk Assessment]:\", precision_lr_ra)\n",
        "print(\"Recall Logistic Regression [Risk Assessment]:\", recall_lr_ra)"
      ],
      "metadata": {
        "colab": {
          "base_uri": "https://localhost:8080/"
        },
        "id": "EivmAweHQinP",
        "outputId": "8d339957-ef1c-482a-96da-404cddfdfe07"
      },
      "execution_count": null,
      "outputs": [
        {
          "output_type": "stream",
          "name": "stdout",
          "text": [
            "Accuracy Logistic Regression [Risk Assessment]: 0.6924746743849494\n",
            "Precision Logistic Regression [Risk Assessment]: 0.7072419106317411\n",
            "Recall Logistic Regression [Risk Assessment]: 0.6613832853025937\n"
          ]
        }
      ]
    }
  ]
}