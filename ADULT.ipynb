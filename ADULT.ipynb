{
  "nbformat": 4,
  "nbformat_minor": 0,
  "metadata": {
    "colab": {
      "provenance": [],
      "gpuType": "T4",
      "collapsed_sections": [
        "egzFTTie8V9P",
        "h8U9Cf4r8YUs",
        "cXm5USu68lkE",
        "bzj1zXe49JTm",
        "-7F3Ql1Y-j0n",
        "aAnXxaFWFQIq",
        "Lwzrke2h2AHl",
        "ii6dxCwl3HpF",
        "3i5erLkK591s",
        "3zIXtJal-rNV",
        "pJaI54gibkx5",
        "0ypGqTgrjHlh",
        "4R8ccW9si_lx",
        "5i0YZwnajxHk"
      ],
      "authorship_tag": "ABX9TyO2IP+IYZsiiTM1BQXe1yi8",
      "include_colab_link": true
    },
    "kernelspec": {
      "name": "python3",
      "display_name": "Python 3"
    },
    "language_info": {
      "name": "python"
    },
    "accelerator": "GPU"
  },
  "cells": [
    {
      "cell_type": "markdown",
      "metadata": {
        "id": "view-in-github",
        "colab_type": "text"
      },
      "source": [
        "<a href=\"https://colab.research.google.com/github/AlessandraParziale/Fairness-Thesis/blob/main/ADULT.ipynb\" target=\"_parent\"><img src=\"https://colab.research.google.com/assets/colab-badge.svg\" alt=\"Open In Colab\"/></a>"
      ]
    },
    {
      "cell_type": "markdown",
      "source": [
        "# **ADULT**\n",
        "[Questo set di dati viene utilizzato per prevedere se il reddito supera i 50.000 dollari all'anno.]"
      ],
      "metadata": {
        "id": "q2Btp_p88bye"
      }
    },
    {
      "cell_type": "markdown",
      "source": [
        "## ***Classification***"
      ],
      "metadata": {
        "id": "egzFTTie8V9P"
      }
    },
    {
      "cell_type": "markdown",
      "source": [
        "### Loading the Data"
      ],
      "metadata": {
        "id": "h8U9Cf4r8YUs"
      }
    },
    {
      "cell_type": "code",
      "source": [
        "import os\n",
        "import pandas as pd\n",
        "import xgboost as xgb\n",
        "import requests\n",
        "from sklearn.compose import ColumnTransformer\n",
        "from sklearn.impute import SimpleImputer\n",
        "from sklearn.preprocessing import OneHotEncoder, StandardScaler\n",
        "from sklearn.pipeline import Pipeline\n",
        "from sklearn.ensemble import RandomForestClassifier\n",
        "from sklearn.model_selection import train_test_split\n",
        "from sklearn.metrics import confusion_matrix, accuracy_score, precision_score, recall_score\n",
        "from sklearn.linear_model import LogisticRegression\n",
        "from sklearn.svm import LinearSVC"
      ],
      "metadata": {
        "id": "xKUwdx6LaB9m"
      },
      "execution_count": null,
      "outputs": []
    },
    {
      "cell_type": "code",
      "execution_count": null,
      "metadata": {
        "id": "sNzLOeNKYbeK",
        "colab": {
          "base_uri": "https://localhost:8080/"
        },
        "outputId": "da90dee7-fe49-4bdb-eaae-ede5fb2058cd"
      },
      "outputs": [
        {
          "output_type": "stream",
          "name": "stderr",
          "text": [
            "<ipython-input-9-618c2086ecb4>:26: ParserWarning: Falling back to the 'python' engine because the 'c' engine does not support regex separators (separators > 1 char and different from '\\s+' are interpreted as regex); you can avoid this warning by specifying engine='python'.\n",
            "  data = pd.read_csv(url, names=cols, na_values='?', delimiter=', ')\n"
          ]
        }
      ],
      "source": [
        "DATA_DIR = \"/content/ADULT-Classification\"\n",
        "\n",
        "if not os.path.exists(DATA_DIR):\n",
        "    os.makedirs(DATA_DIR)\n",
        "\n",
        "def ensure_download(url, fname):\n",
        "    fpath = f\"{DATA_DIR}/{fname}\"\n",
        "    if not os.path.isfile(fpath):\n",
        "        response = requests.get(url)\n",
        "        with open(fpath, 'wb') as file:\n",
        "            file.write(response.content)\n",
        "\n",
        "def load_adult():\n",
        "\n",
        "    url = \"https://archive.ics.uci.edu/ml/machine-learning-databases/adult/adult.data\"\n",
        "    fname = \"adult-data.csv\"\n",
        "    ensure_download(url, fname)\n",
        "\n",
        "    cols = [\"age\", \"workclass\", \"fnlwgt\", \"education\",\n",
        "            \"education_num\", \"marital_status\", \"occupation\",\n",
        "            \"relationship\", \"race\", \"sex\", \"capital_gain\",\n",
        "            \"capital_loss\", \"hours_per_week\", \"native_country\",\n",
        "            \"income_per_year\"\n",
        "           ]\n",
        "\n",
        "    data = pd.read_csv(url, names=cols, na_values='?', delimiter=', ')\n",
        "\n",
        "    data.dropna(inplace=True)\n",
        "\n",
        "    #Converto la colonna 'income_per_year' in binaria: 0 se <=50K, 1 altrimenti\n",
        "    data['income_per_year'] = data['income_per_year'].map(lambda x: 0 if x == '<=50K' else 1)\n",
        "\n",
        "    X = data.drop('income_per_year', axis=1)\n",
        "    y = data['income_per_year']\n",
        "\n",
        "    return X, y\n",
        "\n",
        "\n",
        "X, y = load_adult()"
      ]
    },
    {
      "cell_type": "code",
      "source": [
        "# Trasformazioni features numeriche e categoriali\n",
        "\n",
        "numeric_features = ['age', 'fnlwgt', 'education_num', 'capital_gain', 'capital_loss', 'hours_per_week']\n",
        "numeric_transformer = Pipeline(steps=[\n",
        "    ('imputer', SimpleImputer(strategy='median')),\n",
        "    ('scaler', StandardScaler())\n",
        "])\n",
        "\n",
        "categorical_features = ['workclass', 'education', 'marital_status', 'occupation', 'relationship', 'race', 'sex', 'native_country']\n",
        "categorical_transformer = Pipeline(steps=[\n",
        "    ('imputer', SimpleImputer(strategy='constant', fill_value='missing')),\n",
        "    ('onehot', OneHotEncoder(handle_unknown='ignore'))\n",
        "])\n",
        "\n",
        "preprocessor = ColumnTransformer(\n",
        "    transformers=[\n",
        "        ('num', numeric_transformer, numeric_features),\n",
        "        ('cat', categorical_transformer, categorical_features)\n",
        "    ])\n"
      ],
      "metadata": {
        "id": "TGfwC2QgIbmy"
      },
      "execution_count": null,
      "outputs": []
    },
    {
      "cell_type": "markdown",
      "source": [
        "\n",
        "---\n",
        "\n",
        "### **Random Forest Model**"
      ],
      "metadata": {
        "id": "cXm5USu68lkE"
      }
    },
    {
      "cell_type": "code",
      "source": [
        "X_train, X_test, y_train, y_test = train_test_split(X, y, test_size=0.2, random_state=42)\n",
        "X_train = preprocessor.fit_transform(X_train)\n",
        "X_test = preprocessor.transform(X_test)\n",
        "\n",
        "rf_classifier = RandomForestClassifier(n_estimators=100, random_state=42)\n",
        "\n",
        "rf_classifier.fit(X_train, y_train)\n",
        "\n",
        "y_pred = rf_classifier.predict(X_test)"
      ],
      "metadata": {
        "id": "EQ8e2Ud_dK8I"
      },
      "execution_count": null,
      "outputs": []
    },
    {
      "cell_type": "code",
      "source": [
        "# Valutazione modello\n",
        "\n",
        "# Confusion Matrix\n",
        "conf_matrix = confusion_matrix(y_test, y_pred)\n",
        "\n",
        "# Precision\n",
        "precision = precision_score(y_test, y_pred)\n",
        "\n",
        "# Recall\n",
        "recall = recall_score(y_test, y_pred)\n",
        "\n",
        "# Accuracy\n",
        "accuracy = accuracy_score(y_test, y_pred)\n",
        "\n",
        "print(\"Confusion Matrix Random Forest:\", conf_matrix)\n",
        "print(\"Accuracy Random Forest:\", accuracy)\n",
        "print(\"Precision Random Forest:\", precision)\n",
        "print(\"Recall Random Forest:\", recall)"
      ],
      "metadata": {
        "colab": {
          "base_uri": "https://localhost:8080/"
        },
        "id": "egvyCncOdUEI",
        "outputId": "4fa90550-eff4-4198-f907-7cf7f290f4c2"
      },
      "execution_count": null,
      "outputs": [
        {
          "output_type": "stream",
          "name": "stdout",
          "text": [
            "Confusion Matrix Random Forest: [[4149  354]\n",
            " [ 546  984]]\n",
            "Accuracy Random Forest: 0.8508204873197415\n",
            "Precision Random Forest: 0.7354260089686099\n",
            "Recall Random Forest: 0.6431372549019608\n"
          ]
        }
      ]
    },
    {
      "cell_type": "markdown",
      "source": [
        "\n",
        "---\n",
        "\n",
        "\n",
        "### **Logistic Regression Model**"
      ],
      "metadata": {
        "id": "bzj1zXe49JTm"
      }
    },
    {
      "cell_type": "code",
      "source": [
        "X_train, X_test, y_train, y_test = train_test_split(X, y, test_size=0.2, random_state=42)\n",
        "X_train = preprocessor.fit_transform(X_train)\n",
        "X_test = preprocessor.transform(X_test)\n",
        "\n",
        "lr_classifier = LogisticRegression(max_iter=1000, random_state=42)\n",
        "\n",
        "lr_classifier.fit(X_train, y_train)\n",
        "\n",
        "y_pred_lr = lr_classifier.predict(X_test)\n"
      ],
      "metadata": {
        "id": "YuwHd1_a9IMw"
      },
      "execution_count": null,
      "outputs": []
    },
    {
      "cell_type": "code",
      "source": [
        "# Valutazione modello\n",
        "\n",
        "# Confusion Matrix\n",
        "conf_matrix_lr = confusion_matrix(y_test, y_pred_lr)\n",
        "\n",
        "# Precision\n",
        "precision_lr = precision_score(y_test, y_pred_lr)\n",
        "\n",
        "# Recall\n",
        "recall_lr = recall_score(y_test, y_pred_lr)\n",
        "\n",
        "# Accuracy\n",
        "accuracy_lr = accuracy_score(y_test, y_pred_lr)\n",
        "\n",
        "print(\"Confusion Matrix Random Forest:\", conf_matrix_lr)\n",
        "print(\"Accuracy Random Forest:\", accuracy_lr)\n",
        "print(\"Precision Random Forest:\", precision_lr)\n",
        "print(\"Recall Random Forest:\", recall_lr)"
      ],
      "metadata": {
        "colab": {
          "base_uri": "https://localhost:8080/"
        },
        "id": "WnKuLIm-9hKQ",
        "outputId": "339b450d-17b0-45be-f658-d41716ad5a44"
      },
      "execution_count": null,
      "outputs": [
        {
          "output_type": "stream",
          "name": "stdout",
          "text": [
            "Confusion Matrix Random Forest: [[4201  302]\n",
            " [ 582  948]]\n",
            "Accuracy Random Forest: 0.8534725675451682\n",
            "Precision Random Forest: 0.7584\n",
            "Recall Random Forest: 0.6196078431372549\n"
          ]
        }
      ]
    },
    {
      "cell_type": "markdown",
      "source": [
        "---\n",
        "### **eXtreme Gradient Boosting Model (XGBoost)**"
      ],
      "metadata": {
        "id": "-7F3Ql1Y-j0n"
      }
    },
    {
      "cell_type": "code",
      "source": [
        "X_train, X_test, y_train, y_test = train_test_split(X, y, test_size=0.2, random_state=42)\n",
        "X_train = preprocessor.fit_transform(X_train)\n",
        "X_test = preprocessor.transform(X_test)\n",
        "\n",
        "xgb_classifier = xgb.XGBClassifier(objective='binary:logistic', random_state=42)\n",
        "\n",
        "xgb_classifier.fit(X_train, y_train)\n",
        "\n",
        "y_pred_xgb = xgb_classifier.predict(X_test)\n"
      ],
      "metadata": {
        "id": "m5O28ZsB-iY8"
      },
      "execution_count": null,
      "outputs": []
    },
    {
      "cell_type": "code",
      "source": [
        "# Valutazione modello\n",
        "\n",
        "# Confusion Matrix\n",
        "conf_matrix_xgb = confusion_matrix(y_test, y_pred_xgb)\n",
        "\n",
        "# Precision\n",
        "precision_xgb = precision_score(y_test, y_pred_xgb)\n",
        "\n",
        "# Recall\n",
        "recall_xgb = recall_score(y_test, y_pred_xgb)\n",
        "\n",
        "# Accuracy\n",
        "accuracy_xgb = accuracy_score(y_test, y_pred_xgb)\n",
        "\n",
        "\n",
        "print(\"Confusion Matrix Random Forest:\", conf_matrix_xgb)\n",
        "print(\"Accuracy Random Forest:\", accuracy_xgb)\n",
        "print(\"Precision Random Forest:\", precision_xgb)\n",
        "print(\"Recall Random Forest:\", recall_xgb)"
      ],
      "metadata": {
        "colab": {
          "base_uri": "https://localhost:8080/"
        },
        "id": "oduy3Qpx_Nqj",
        "outputId": "d0ef052b-99da-4728-a4cc-aa390d0adaf1"
      },
      "execution_count": null,
      "outputs": [
        {
          "output_type": "stream",
          "name": "stdout",
          "text": [
            "Confusion Matrix Random Forest: [[4223  280]\n",
            " [ 494 1036]]\n",
            "Accuracy Random Forest: 0.8717056190949776\n",
            "Precision Random Forest: 0.7872340425531915\n",
            "Recall Random Forest: 0.677124183006536\n"
          ]
        }
      ]
    },
    {
      "cell_type": "markdown",
      "source": [
        "## ***Clustering***"
      ],
      "metadata": {
        "id": "aAnXxaFWFQIq"
      }
    },
    {
      "cell_type": "markdown",
      "source": [
        "### Loading the Data"
      ],
      "metadata": {
        "id": "Lwzrke2h2AHl"
      }
    },
    {
      "cell_type": "code",
      "source": [
        "import pandas as pd\n",
        "import os\n",
        "import requests\n",
        "import numpy as np\n",
        "import matplotlib.pyplot as plt\n",
        "import pandas as pd\n",
        "\n",
        "from sklearn.compose import ColumnTransformer\n",
        "from sklearn.preprocessing import OneHotEncoder, StandardScaler\n",
        "from sklearn.impute import SimpleImputer\n",
        "from sklearn.pipeline import Pipeline\n",
        "from sklearn.metrics import silhouette_score\n",
        "from sklearn.cluster import KMeans\n",
        "from scipy.spatial.distance import cdist\n"
      ],
      "metadata": {
        "id": "qo3Bzv7ULzAy"
      },
      "execution_count": null,
      "outputs": []
    },
    {
      "cell_type": "code",
      "source": [
        "DATA_DIR = \"/content/ADULT-Clustering\"\n",
        "\n",
        "if not os.path.exists(DATA_DIR):\n",
        "    os.makedirs(DATA_DIR)\n",
        "\n",
        "def ensure_download(url, fname):\n",
        "    fpath = f\"{DATA_DIR}/{fname}\"\n",
        "    if not os.path.isfile(fpath):\n",
        "        response = requests.get(url)\n",
        "        with open(fpath, 'wb') as file:\n",
        "            file.write(response.content)\n",
        "\n",
        "def load_adult():\n",
        "\n",
        "    url = \"https://archive.ics.uci.edu/ml/machine-learning-databases/adult/adult.data\"\n",
        "    fname = \"adult-data.csv\"\n",
        "    ensure_download(url, fname)\n",
        "\n",
        "    cols = [\"age\", \"workclass\", \"fnlwgt\", \"education\",\n",
        "        \"education_num\", \"marital_status\", \"occupation\",\n",
        "        \"relationship\", \"race\", \"sex\", \"capital_gain\",\n",
        "        \"capital_loss\", \"hours_per_week\", \"native_country\",\n",
        "        \"income_per_year\"\n",
        "        ]\n",
        "\n",
        "    data = pd.read_csv(f\"{DATA_DIR}/{fname}\", names=cols, na_values='?', delimiter=', ')\n",
        "\n",
        "    data.dropna(inplace=True)\n",
        "    return data\n",
        "\n",
        "X = load_adult()\n"
      ],
      "metadata": {
        "id": "9kggTqXKFPiq",
        "colab": {
          "base_uri": "https://localhost:8080/"
        },
        "outputId": "5eab9a5b-f249-4020-c314-00321da5016d"
      },
      "execution_count": null,
      "outputs": [
        {
          "output_type": "stream",
          "name": "stderr",
          "text": [
            "<ipython-input-19-43df4517dde6>:26: ParserWarning: Falling back to the 'python' engine because the 'c' engine does not support regex separators (separators > 1 char and different from '\\s+' are interpreted as regex); you can avoid this warning by specifying engine='python'.\n",
            "  data = pd.read_csv(f\"{DATA_DIR}/{fname}\", names=cols, na_values='?', delimiter=', ')\n"
          ]
        }
      ]
    },
    {
      "cell_type": "code",
      "source": [
        "# Trasformazioni features numeriche e categoriali\n",
        "\n",
        "numeric_features = ['age', 'fnlwgt', 'education_num', 'capital_gain', 'capital_loss', 'hours_per_week']\n",
        "numeric_transformer = Pipeline(steps=[\n",
        "    ('imputer', SimpleImputer(strategy='median')),\n",
        "    ('scaler', StandardScaler())\n",
        "])\n",
        "\n",
        "categorical_features = ['workclass', 'education', 'marital_status', 'occupation', 'relationship', 'race', 'sex', 'native_country']\n",
        "categorical_transformer = Pipeline(steps=[\n",
        "    ('imputer', SimpleImputer(strategy='constant', fill_value='missing')),\n",
        "    ('onehot', OneHotEncoder(handle_unknown='ignore'))\n",
        "])\n",
        "\n",
        "preprocessor = ColumnTransformer(\n",
        "    transformers=[\n",
        "        ('num', numeric_transformer, numeric_features),\n",
        "        ('cat', categorical_transformer, categorical_features)\n",
        "    ])\n",
        "\n",
        "X = preprocessor.fit_transform(X)"
      ],
      "metadata": {
        "id": "5cfLaRAaeK-J"
      },
      "execution_count": null,
      "outputs": []
    },
    {
      "cell_type": "markdown",
      "source": [
        "---\n",
        "### **K-Means**"
      ],
      "metadata": {
        "id": "ii6dxCwl3HpF"
      }
    },
    {
      "cell_type": "code",
      "source": [
        "# Metodo del gomito (Elbow Method)\n",
        "\n",
        "\n",
        "inertia = []\n",
        "\n",
        "k_values = range(1, 11)\n",
        "\n",
        "# Calcolo inertia per ogni valore di k\n",
        "for k in k_values:\n",
        "    kmeans = KMeans(n_clusters=k, random_state=42)\n",
        "    kmeans.fit(X)\n",
        "    inertia.append(kmeans.inertia_)\n",
        "\n",
        "# Grafico\n",
        "plt.plot(k_values, inertia, marker='o')\n",
        "plt.xlabel('Numero di cluster')\n",
        "plt.ylabel('Inertia')\n",
        "plt.title('Metodo del Gomito per KMeans')\n",
        "plt.show()\n"
      ],
      "metadata": {
        "colab": {
          "base_uri": "https://localhost:8080/",
          "height": 472
        },
        "id": "ZIx3l6exsw5R",
        "outputId": "df952cac-239c-4a59-f80b-4f2f3a241c0e"
      },
      "execution_count": null,
      "outputs": [
        {
          "output_type": "display_data",
          "data": {
            "text/plain": [
              "<Figure size 640x480 with 1 Axes>"
            ],
            "image/png": "[encoded data removed]"
          },
          "metadata": {}
        }
      ]
    },
    {
      "cell_type": "code",
      "source": [
        "# K-Means con 6 cluster\n",
        "\n",
        "kmeans = KMeans(n_clusters=6, random_state=42)\n",
        "kmeans.fit(X)\n",
        "\n",
        "labels = kmeans.labels_\n",
        "print(labels)\n",
        "\n",
        "\n",
        "# Valutazione modello\n",
        "\n",
        "# Coefficiente di Silhouette\n",
        "silhouette_coefficient = silhouette_score(X, labels)\n",
        "print(\"Il coefficiente di Silhouette è:\", silhouette_coefficient)\n",
        "\n"
      ],
      "metadata": {
        "colab": {
          "base_uri": "https://localhost:8080/"
        },
        "id": "z5oaf0AIuCky",
        "outputId": "99e4d3d0-6663-4d1d-bb78-a3de499e9fbf"
      },
      "execution_count": null,
      "outputs": [
        {
          "output_type": "stream",
          "name": "stdout",
          "text": [
            "[1 1 5 ... 5 4 5]\n",
            "Il coefficiente di Silhouette è: 0.12506785929798545\n"
          ]
        }
      ]
    },
    {
      "cell_type": "markdown",
      "source": [
        "---\n",
        "### **K-Center**"
      ],
      "metadata": {
        "id": "3i5erLkK591s"
      }
    },
    {
      "cell_type": "code",
      "source": [
        "# K-Center con 6 cluster\n",
        "\n",
        "def kcenter(X, k):\n",
        "    X_dense = X.toarray()\n",
        "    centers = [X_dense[0]]\n",
        "    while len(centers) < k:\n",
        "        #Calcolo distanze\n",
        "        distances = cdist(X_dense, centers).min(axis=1)\n",
        "        #Selezione nuovo centro\n",
        "        new_center = X_dense[np.argmax(distances)]\n",
        "        # Aggiunta nuovo centro alla lista\n",
        "        centers.append(new_center)\n",
        "    return np.array(centers)\n",
        "\n",
        "\n",
        "k = 6\n",
        "cluster_centers = kcenter(X, k)\n",
        "\n",
        "def assign_clusters(X, cluster_centers):\n",
        "    #Conversione in una matrice densa\n",
        "    X_dense = X.toarray()\n",
        "    #Distanze tra ogni punto e tutti i centri dei cluster\n",
        "    distances = cdist(X_dense, cluster_centers)\n",
        "    #Trovo l'indice del centro più vicino per ciascun punto\n",
        "    cluster_indices = np.argmin(distances, axis=1)\n",
        "\n",
        "    return cluster_indices\n",
        "\n",
        "\n",
        "labels = assign_clusters(X, cluster_centers)\n",
        "print(labels)\n",
        "\n",
        "\n",
        "# Valutazione modello\n",
        "\n",
        "# Coefficiente di Silhouette\n",
        "silhouette_coefficient = silhouette_score(X, labels)\n",
        "print(\"Il coefficiente di Silhouette è:\", silhouette_coefficient)\n"
      ],
      "metadata": {
        "id": "VHjfD6ro58jA",
        "colab": {
          "base_uri": "https://localhost:8080/"
        },
        "outputId": "b3716b59-c8b6-4c08-eb0d-4e41ffd386f3"
      },
      "execution_count": null,
      "outputs": [
        {
          "output_type": "stream",
          "name": "stdout",
          "text": [
            "[0 0 0 ... 0 0 0]\n",
            "Il coefficiente di Silhouette è: 0.33117170488420195\n"
          ]
        }
      ]
    },
    {
      "cell_type": "markdown",
      "source": [
        "---\n",
        "### **K-Median**"
      ],
      "metadata": {
        "id": "3zIXtJal-rNV"
      }
    },
    {
      "cell_type": "code",
      "source": [
        "# K-Median con 6 cluster\n",
        "\n",
        "\n",
        "def k_median(X, k, max_iters=100):\n",
        "    #Conversione in una matrice densa\n",
        "    X_dense = X.toarray()\n",
        "    #Inizializzazione casuale\n",
        "    centroids = X_dense[np.random.choice(range(X_dense.shape[0]), size=k, replace=False)]\n",
        "\n",
        "    for _ in range(max_iters):\n",
        "        #Calcolo distanza tra ogni punto e ogni centroide\n",
        "        distances = np.linalg.norm(X_dense[:, np.newaxis, :] - centroids, axis=2)\n",
        "        #Indice del centroide più vicino per ogni punto\n",
        "        labels = np.argmin(distances, axis=1)\n",
        "        #Calcolo i nuovi centroidi come mediane dei punti assegnati a ciascun cluster\n",
        "        new_centroids = np.array([np.median(X_dense[labels == i], axis=0) for i in range(k)])\n",
        "\n",
        "        if np.allclose(new_centroids, centroids):\n",
        "            break\n",
        "\n",
        "        centroids = new_centroids\n",
        "\n",
        "    return centroids, labels\n",
        "\n",
        "\n",
        "centroids, labels = k_median(X, k=6)\n",
        "print(labels)\n",
        "\n",
        "\n",
        "# Valutazione modello\n",
        "\n",
        "# Coefficiente di Silhouette\n",
        "silhouette_coefficient = silhouette_score(X, labels)\n",
        "print(\"Il coefficiente di Silhouette è:\", silhouette_coefficient)\n",
        "\n"
      ],
      "metadata": {
        "colab": {
          "base_uri": "https://localhost:8080/"
        },
        "id": "PcYp67g8f5V5",
        "outputId": "a055c314-551d-402b-cc7f-92eff79e064f"
      },
      "execution_count": null,
      "outputs": [
        {
          "output_type": "stream",
          "name": "stdout",
          "text": [
            "[5 5 0 ... 0 4 0]\n",
            "Il coefficiente di Silhouette è: 0.09948456262841812\n"
          ]
        }
      ]
    },
    {
      "cell_type": "markdown",
      "source": [
        "## ***Anomaly detection***"
      ],
      "metadata": {
        "id": "pJaI54gibkx5"
      }
    },
    {
      "cell_type": "markdown",
      "source": [
        "### Loading the Data"
      ],
      "metadata": {
        "id": "0ypGqTgrjHlh"
      }
    },
    {
      "cell_type": "code",
      "source": [
        "import pandas as pd\n",
        "import os\n",
        "import requests\n",
        "import numpy as np\n",
        "import matplotlib.pyplot as plt\n",
        "import pandas as pd\n",
        "\n",
        "from sklearn.pipeline import Pipeline\n",
        "from sklearn.cluster import KMeans\n",
        "from scipy.spatial.distance import cdist\n",
        "from sklearn.neighbors import LocalOutlierFactor\n",
        "from sklearn.ensemble import IsolationForest"
      ],
      "metadata": {
        "id": "wBUSs0nlbtaP"
      },
      "execution_count": null,
      "outputs": []
    },
    {
      "cell_type": "code",
      "source": [
        "DATA_DIR = \"/content/ADULT-AnomalyDetection\"\n",
        "\n",
        "\n",
        "if not os.path.exists(DATA_DIR):\n",
        "    os.makedirs(DATA_DIR)\n",
        "\n",
        "def ensure_download(url, fname):\n",
        "    fpath = f\"{DATA_DIR}/{fname}\"\n",
        "    if not os.path.isfile(fpath):\n",
        "        response = requests.get(url)\n",
        "        with open(fpath, 'wb') as file:\n",
        "            file.write(response.content)\n",
        "\n",
        "def load_adult():\n",
        "    url = \"https://archive.ics.uci.edu/ml/machine-learning-databases/adult/adult.data\"\n",
        "    fname = \"adult-data.csv\"\n",
        "    ensure_download(url, fname)\n",
        "\n",
        "    cols = [\"age\", \"workclass\", \"fnlwgt\", \"education\",\n",
        "        \"education_num\", \"marital_status\", \"occupation\",\n",
        "        \"relationship\", \"race\", \"sex\", \"capital_gain\",\n",
        "        \"capital_loss\", \"hours_per_week\", \"native_country\",\n",
        "        \"income_per_year\"\n",
        "        ]\n",
        "\n",
        "    data = pd.read_csv(f\"{DATA_DIR}/{fname}\", names=cols, na_values='?', delimiter=', ')\n",
        "\n",
        "    data.dropna(inplace=True)\n",
        "    return data\n",
        "\n",
        "\n",
        "X = load_adult()\n"
      ],
      "metadata": {
        "id": "lOoWD-a6bwYG",
        "colab": {
          "base_uri": "https://localhost:8080/"
        },
        "outputId": "647a4134-4ac1-4421-88c1-c6b90293aa99"
      },
      "execution_count": null,
      "outputs": [
        {
          "output_type": "stream",
          "name": "stderr",
          "text": [
            "<ipython-input-27-91a226295c39>:26: ParserWarning: Falling back to the 'python' engine because the 'c' engine does not support regex separators (separators > 1 char and different from '\\s+' are interpreted as regex); you can avoid this warning by specifying engine='python'.\n",
            "  data = pd.read_csv(f\"{DATA_DIR}/{fname}\", names=cols, na_values='?', delimiter=', ')\n"
          ]
        }
      ]
    },
    {
      "cell_type": "code",
      "source": [
        "# Trasformazioni features numeriche e categoriali\n",
        "\n",
        "numeric_features = ['age', 'fnlwgt', 'education_num', 'capital_gain', 'capital_loss', 'hours_per_week']\n",
        "numeric_transformer = Pipeline(steps=[\n",
        "    ('imputer', SimpleImputer(strategy='median')),\n",
        "    ('scaler', StandardScaler())\n",
        "])\n",
        "\n",
        "categorical_features = ['workclass', 'education', 'marital_status', 'occupation', 'relationship', 'race', 'sex', 'native_country']\n",
        "categorical_transformer = Pipeline(steps=[\n",
        "    ('imputer', SimpleImputer(strategy='constant', fill_value='missing')),\n",
        "    ('onehot', OneHotEncoder(handle_unknown='ignore'))\n",
        "])\n",
        "\n",
        "preprocessor = ColumnTransformer(\n",
        "    transformers=[\n",
        "        ('num', numeric_transformer, numeric_features),\n",
        "        ('cat', categorical_transformer, categorical_features)\n",
        "    ])\n",
        "\n",
        "X_model = preprocessor.fit_transform(X)"
      ],
      "metadata": {
        "id": "_zmHccBxTOuu"
      },
      "execution_count": null,
      "outputs": []
    },
    {
      "cell_type": "markdown",
      "source": [
        "---\n",
        "\n",
        "\n",
        "###  **ISODepth (basato sulla profondità)**"
      ],
      "metadata": {
        "id": "4R8ccW9si_lx"
      }
    },
    {
      "cell_type": "code",
      "source": [
        "# Isolation Forest Depth (basato sulla profondità)\n",
        "\n",
        "\n",
        "isoforest_model = IsolationForest(random_state=42, contamination=0.1)\n",
        "isoforest_model.fit(X_model)\n",
        "\n",
        "anomaly_preds = isoforest_model.predict(X_model)\n",
        "\n",
        "X['isoforest_anomaly'] = anomaly_preds\n",
        "\n",
        "\n",
        "anomaly_instances = X[X['isoforest_anomaly'] == -1]\n",
        "num_anomalies = len(anomaly_instances)\n",
        "print(\"Numero di anomalie:\", num_anomalies)\n",
        "print(\"\\nIstanze anomale:\")\n",
        "print(anomaly_instances)\n"
      ],
      "metadata": {
        "colab": {
          "base_uri": "https://localhost:8080/"
        },
        "id": "woDijzYnTwMm",
        "outputId": "e1202962-81cb-468f-9b44-f1a25ab077b6"
      },
      "execution_count": null,
      "outputs": [
        {
          "output_type": "stream",
          "name": "stdout",
          "text": [
            "Numero di anomalie: 3017\n",
            "\n",
            "Istanze anomale:\n",
            "       age     workclass  fnlwgt     education  education_num  \\\n",
            "4       28       Private  338409     Bachelors             13   \n",
            "6       49       Private  160187           9th              5   \n",
            "11      30     State-gov  141297     Bachelors             13   \n",
            "21      54       Private  302146       HS-grad              9   \n",
            "50      25       Private   32275  Some-college             10   \n",
            "...    ...           ...     ...           ...            ...   \n",
            "32538   38       Private  139180     Bachelors             13   \n",
            "32540   45     State-gov  252208       HS-grad              9   \n",
            "32545   39     Local-gov  111499    Assoc-acdm             12   \n",
            "32553   32       Private  116138       Masters             14   \n",
            "32560   52  Self-emp-inc  287927       HS-grad              9   \n",
            "\n",
            "              marital_status       occupation   relationship  \\\n",
            "4         Married-civ-spouse   Prof-specialty           Wife   \n",
            "6      Married-spouse-absent    Other-service  Not-in-family   \n",
            "11        Married-civ-spouse   Prof-specialty        Husband   \n",
            "21                 Separated    Other-service      Unmarried   \n",
            "50        Married-civ-spouse  Exec-managerial           Wife   \n",
            "...                      ...              ...            ...   \n",
            "32538               Divorced   Prof-specialty      Unmarried   \n",
            "32540              Separated     Adm-clerical      Own-child   \n",
            "32545     Married-civ-spouse     Adm-clerical           Wife   \n",
            "32553          Never-married     Tech-support  Not-in-family   \n",
            "32560     Married-civ-spouse  Exec-managerial           Wife   \n",
            "\n",
            "                     race     sex  capital_gain  capital_loss  hours_per_week  \\\n",
            "4                   Black  Female             0             0              40   \n",
            "6                   Black  Female             0             0              16   \n",
            "11     Asian-Pac-Islander    Male             0             0              40   \n",
            "21                  Black  Female             0             0              20   \n",
            "50                  Other  Female             0             0              40   \n",
            "...                   ...     ...           ...           ...             ...   \n",
            "32538               Black  Female         15020             0              45   \n",
            "32540               White  Female             0             0              40   \n",
            "32545               White  Female             0             0              20   \n",
            "32553  Asian-Pac-Islander    Male             0             0              11   \n",
            "32560               White  Female         15024             0              40   \n",
            "\n",
            "      native_country income_per_year  isoforest_anomaly  \n",
            "4               Cuba           <=50K                 -1  \n",
            "6            Jamaica           <=50K                 -1  \n",
            "11             India            >50K                 -1  \n",
            "21     United-States           <=50K                 -1  \n",
            "50     United-States           <=50K                 -1  \n",
            "...              ...             ...                ...  \n",
            "32538  United-States            >50K                 -1  \n",
            "32540  United-States           <=50K                 -1  \n",
            "32545  United-States            >50K                 -1  \n",
            "32553         Taiwan           <=50K                 -1  \n",
            "32560  United-States            >50K                 -1  \n",
            "\n",
            "[3017 rows x 16 columns]\n"
          ]
        }
      ]
    },
    {
      "cell_type": "markdown",
      "source": [
        "---\n",
        "\n",
        "\n",
        "### **LOF (basato sulla densità)**"
      ],
      "metadata": {
        "id": "5i0YZwnajxHk"
      }
    },
    {
      "cell_type": "code",
      "source": [
        "# Local Outlier Factor (basato sulla densità)\n",
        "\n",
        "lof = LocalOutlierFactor(n_neighbors=20, contamination=0.1)\n",
        "lof.fit(X_model)\n",
        "\n",
        "anomaly_labels = lof.fit_predict(X_model)\n",
        "\n",
        "num_anomalies = (anomaly_labels == -1).sum()\n",
        "print(f\"Numero di anomalie rilevate: {num_anomalies}\")\n",
        "print(\"Etichette delle anomalie:\")\n",
        "print(anomaly_labels)\n"
      ],
      "metadata": {
        "colab": {
          "base_uri": "https://localhost:8080/"
        },
        "id": "sLhECOZsUjoJ",
        "outputId": "ee45bd3f-8ea2-4f7a-8c23-5377bf1b3287"
      },
      "execution_count": null,
      "outputs": [
        {
          "output_type": "stream",
          "name": "stdout",
          "text": [
            "Numero di anomalie rilevate: 3017\n",
            "Etichette delle anomalie:\n",
            "[1 1 1 ... 1 1 1]\n"
          ]
        }
      ]
    }
  ]
}