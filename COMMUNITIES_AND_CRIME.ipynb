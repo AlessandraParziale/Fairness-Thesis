{
  "nbformat": 4,
  "nbformat_minor": 0,
  "metadata": {
    "colab": {
      "provenance": [],
      "collapsed_sections": [
        "D4E5pfkBxEKm",
        "7DVl_S7PxKrr",
        "OxKedvmPzw2L",
        "SqZQKK3ExZ66",
        "vNdwK03d5eS6",
        "9D8B4yRLzpxj",
        "CHe2rBhD9VA1",
        "zoytrWXe9fL9",
        "3N22zIXL-XMO"
      ],
      "authorship_tag": "ABX9TyM1yvhG223ww4jKfjrGE7GP",
      "include_colab_link": true
    },
    "kernelspec": {
      "name": "python3",
      "display_name": "Python 3"
    },
    "language_info": {
      "name": "python"
    }
  },
  "cells": [
    {
      "cell_type": "markdown",
      "metadata": {
        "id": "view-in-github",
        "colab_type": "text"
      },
      "source": [
        "<a href=\"https://colab.research.google.com/github/AlessandraParziale/Fairness-Thesis/blob/main/COMMUNITIES_AND_CRIME.ipynb\" target=\"_parent\"><img src=\"https://colab.research.google.com/assets/colab-badge.svg\" alt=\"Open In Colab\"/></a>"
      ]
    },
    {
      "cell_type": "markdown",
      "source": [
        "# **COMMUNITIES AND CRIME**\n",
        "La variabile pro capite dei crimini violenti calcolata utilizzando la popolazione e la somma delle variabili di criminalità considerate crimini violenti negli Stati Uniti (omicidio, stupro, rapina e aggressione).\n"
      ],
      "metadata": {
        "id": "pmPvlcn6m_yM"
      }
    },
    {
      "cell_type": "markdown",
      "source": [
        "## ***Classification***"
      ],
      "metadata": {
        "id": "D4E5pfkBxEKm"
      }
    },
    {
      "cell_type": "markdown",
      "source": [
        "### Loading the Data"
      ],
      "metadata": {
        "id": "7DVl_S7PxKrr"
      }
    },
    {
      "cell_type": "code",
      "source": [
        "import pandas as pd\n",
        "import os\n",
        "import requests\n",
        "\n",
        "from sklearn.metrics import confusion_matrix, accuracy_score, precision_score, recall_score\n",
        "from sklearn.tree import DecisionTreeClassifier\n",
        "from sklearn.model_selection import train_test_split\n",
        "from sklearn.metrics import accuracy_score\n",
        "from sklearn.naive_bayes import GaussianNB\n",
        "from sklearn.linear_model import LogisticRegression\n",
        "from sklearn.preprocessing import LabelEncoder\n"
      ],
      "metadata": {
        "id": "ABlQvOmbvRto"
      },
      "execution_count": 1,
      "outputs": []
    },
    {
      "cell_type": "code",
      "execution_count": 2,
      "metadata": {
        "id": "TtrDhS8rm0AP",
        "colab": {
          "base_uri": "https://localhost:8080/"
        },
        "outputId": "dc59f135-8e80-406e-d162-acdc99fb04ab"
      },
      "outputs": [
        {
          "output_type": "stream",
          "name": "stdout",
          "text": [
            "      0      1        2                 3    4     5     6     7     8    \\\n",
            "16     36    1.0   1000.0        Albanycity    1  0.15  0.31  0.40  0.63   \n",
            "23     19  193.0  93926.0     SiouxCitycity    1  0.11  0.43  0.04  0.89   \n",
            "33     51  680.0  47672.0     Lynchburgcity    1  0.09  0.43  0.51  0.58   \n",
            "68     34   23.0  58200.0    PerthAmboycity    1  0.05  0.59  0.23  0.39   \n",
            "74      9    9.0  46520.0       Meridentown    1  0.08  0.39  0.08  0.85   \n",
            "...   ...    ...      ...               ...  ...   ...   ...   ...   ...   \n",
            "1880   34   39.0  40350.0        Lindencity   10  0.04  0.39  0.39  0.65   \n",
            "1963   36   27.0  59641.0  Poughkeepsiecity   10  0.03  0.32  0.61  0.47   \n",
            "1981    9    9.0  35650.0        Hamdentown   10  0.07  0.38  0.17  0.84   \n",
            "1991    9    9.0  80070.0     Waterburytown   10  0.16  0.37  0.25  0.69   \n",
            "1992   25   17.0  72600.0       Walthamcity   10  0.08  0.51  0.06  0.87   \n",
            "\n",
            "       9    ...   118   119   120   121   122   123  124   125   126   127  \n",
            "16    0.14  ...  0.06  0.39  0.84  0.06  0.06  0.91  0.5  0.88  0.26  0.49  \n",
            "23    0.09  ...  0.16  0.12  0.07  0.04  0.01  0.81  1.0  0.56  0.09  0.63  \n",
            "33    0.04  ...  0.14  0.11  0.19  0.05  0.01  0.75  0.0  0.60  0.10  0.31  \n",
            "68    0.09  ...  0.01  0.73  0.28  0.00  0.02  0.64  0.0  1.00  0.23  0.50  \n",
            "74    0.04  ...  0.07  0.21  0.04  0.02  0.01  0.70  1.0  0.44  0.11  0.14  \n",
            "...    ...  ...   ...   ...   ...   ...   ...   ...  ...   ...   ...   ...  \n",
            "1880  0.09  ...  0.03  0.28  0.32  0.02  0.01  0.85  0.0  0.99  0.19  0.22  \n",
            "1963  0.09  ...  0.01  0.47  0.42  0.07  0.08  0.49  0.0  0.37  1.00  0.45  \n",
            "1981  0.11  ...  0.09  0.13  0.17  0.02  0.01  0.72  0.0  0.62  0.15  0.07  \n",
            "1991  0.04  ...  0.08  0.32  0.18  0.08  0.06  0.78  0.0  0.91  0.28  0.23  \n",
            "1992  0.22  ...  0.03  0.38  0.33  0.02  0.02  0.79  0.0  0.22  0.18  0.19  \n",
            "\n",
            "[123 rows x 128 columns]\n",
            "\n",
            "Numero di righe e colonne del DataFrame:\n",
            "(123, 128)\n"
          ]
        }
      ],
      "source": [
        "DATA_DIR = \"/content/CRIME_Classification\"\n",
        "\n",
        "if not os.path.exists(DATA_DIR):\n",
        "    os.makedirs(DATA_DIR)\n",
        "\n",
        "def ensure_download(url, fname):\n",
        "    \"\"\"\n",
        "    Controlla se il dataset è già presente nella directory dei dati.\n",
        "    Lo scarica se non presente.\n",
        "    \"\"\"\n",
        "    fpath = f\"{DATA_DIR}/{fname}\"\n",
        "    if not os.path.isfile(fpath):\n",
        "        response = requests.get(url)\n",
        "        with open(fpath, 'wb') as file:\n",
        "            file.write(response.content)\n",
        "\n",
        "def load_communities_crime():\n",
        "    url = \"http://archive.ics.uci.edu/ml/machine-learning-databases/communities/communities.data\"\n",
        "    fname = \"communities_crime.csv\"\n",
        "    ensure_download(url, fname)\n",
        "\n",
        "    fpath = f\"{DATA_DIR}/{fname}\"\n",
        "\n",
        "    df = pd.read_csv(fpath, header=None, na_values='?')\n",
        "    df.dropna(inplace=True)\n",
        "\n",
        "    X = df.iloc[:, :127]\n",
        "    y = (df.iloc[:, 127] > 0.7).astype(int)\n",
        "    y = pd.Series(LabelEncoder().fit_transform(y))\n",
        "\n",
        "\n",
        "    print(df)\n",
        "    print(\"\\nNumero di righe e colonne del DataFrame:\")\n",
        "    print(df.shape)\n",
        "\n",
        "    return X, y\n",
        "\n",
        "\n",
        "X, y = load_communities_crime()"
      ]
    },
    {
      "cell_type": "code",
      "source": [
        "# Applicazione label encoding a tutte le colonne categoriche\n",
        "\n",
        "\n",
        "categorical_cols = X.select_dtypes(include=['object']).columns\n",
        "\n",
        "label_encoder = LabelEncoder()\n",
        "\n",
        "for col in categorical_cols:\n",
        "    X[col] = label_encoder.fit_transform(X[col])\n",
        "\n",
        "print(X)"
      ],
      "metadata": {
        "colab": {
          "base_uri": "https://localhost:8080/"
        },
        "id": "qjPtJe8QzpFQ",
        "outputId": "97b8e199-736a-4407-a5b2-3c853ee08431"
      },
      "execution_count": null,
      "outputs": [
        {
          "output_type": "stream",
          "name": "stdout",
          "text": [
            "      0      1        2    3    4     5     6     7     8     9    ...   117  \\\n",
            "16     36    1.0   1000.0    0    1  0.15  0.31  0.40  0.63  0.14  ...  0.22   \n",
            "23     19  193.0  93926.0   94    1  0.11  0.43  0.04  0.89  0.09  ...  0.29   \n",
            "33     51  680.0  47672.0   52    1  0.09  0.43  0.51  0.58  0.04  ...  0.10   \n",
            "68     34   23.0  58200.0   79    1  0.05  0.59  0.23  0.39  0.09  ...  0.31   \n",
            "74      9    9.0  46520.0   58    1  0.08  0.39  0.08  0.85  0.04  ...  0.31   \n",
            "...   ...    ...      ...  ...  ...   ...   ...   ...   ...   ...  ...   ...   \n",
            "1880   34   39.0  40350.0   50   10  0.04  0.39  0.39  0.65  0.09  ...  0.32   \n",
            "1963   36   27.0  59641.0   85   10  0.03  0.32  0.61  0.47  0.09  ...  0.44   \n",
            "1981    9    9.0  35650.0   36   10  0.07  0.38  0.17  0.84  0.11  ...  0.25   \n",
            "1991    9    9.0  80070.0  110   10  0.16  0.37  0.25  0.69  0.04  ...  0.25   \n",
            "1992   25   17.0  72600.0  107   10  0.08  0.51  0.06  0.87  0.22  ...  0.19   \n",
            "\n",
            "       118   119   120   121   122   123  124   125   126  \n",
            "16    0.06  0.39  0.84  0.06  0.06  0.91  0.5  0.88  0.26  \n",
            "23    0.16  0.12  0.07  0.04  0.01  0.81  1.0  0.56  0.09  \n",
            "33    0.14  0.11  0.19  0.05  0.01  0.75  0.0  0.60  0.10  \n",
            "68    0.01  0.73  0.28  0.00  0.02  0.64  0.0  1.00  0.23  \n",
            "74    0.07  0.21  0.04  0.02  0.01  0.70  1.0  0.44  0.11  \n",
            "...    ...   ...   ...   ...   ...   ...  ...   ...   ...  \n",
            "1880  0.03  0.28  0.32  0.02  0.01  0.85  0.0  0.99  0.19  \n",
            "1963  0.01  0.47  0.42  0.07  0.08  0.49  0.0  0.37  1.00  \n",
            "1981  0.09  0.13  0.17  0.02  0.01  0.72  0.0  0.62  0.15  \n",
            "1991  0.08  0.32  0.18  0.08  0.06  0.78  0.0  0.91  0.28  \n",
            "1992  0.03  0.38  0.33  0.02  0.02  0.79  0.0  0.22  0.18  \n",
            "\n",
            "[123 rows x 127 columns]\n"
          ]
        }
      ]
    },
    {
      "cell_type": "markdown",
      "source": [
        "---\n",
        "###**Decision Tree**"
      ],
      "metadata": {
        "id": "OxKedvmPzw2L"
      }
    },
    {
      "cell_type": "code",
      "source": [
        "X_train, X_test, y_train, y_test = train_test_split(X, y, test_size=0.2, random_state=42)\n",
        "\n",
        "clf = DecisionTreeClassifier(random_state=42)\n",
        "\n",
        "clf.fit(X_train, y_train)\n",
        "\n",
        "y_pred = clf.predict(X_test)\n"
      ],
      "metadata": {
        "id": "FNGAqgwny6_l"
      },
      "execution_count": null,
      "outputs": []
    },
    {
      "cell_type": "code",
      "source": [
        "# Valutazione modello\n",
        "\n",
        "# Confusion Matrix\n",
        "conf_matrix = confusion_matrix(y_test, y_pred)\n",
        "\n",
        "# Precision\n",
        "precision = precision_score(y_test, y_pred)\n",
        "\n",
        "# Recall\n",
        "recall = recall_score(y_test, y_pred)\n",
        "\n",
        "# Accuracy\n",
        "accuracy = accuracy_score(y_test, y_pred)\n",
        "\n",
        "print(\"Confusion Matrix Decision Tree:\", conf_matrix)\n",
        "print(\"Accuracy Decision Tree:\", accuracy)\n",
        "print(\"Precision Decision Tree:\", precision)\n",
        "print(\"Recall Decision Tree:\", recall)"
      ],
      "metadata": {
        "colab": {
          "base_uri": "https://localhost:8080/"
        },
        "id": "0g7Y6ONNz4FT",
        "outputId": "513c96a1-f234-4942-e3e6-d66281e9e375"
      },
      "execution_count": null,
      "outputs": [
        {
          "output_type": "stream",
          "name": "stdout",
          "text": [
            "Confusion Matrix Decision Tree: [[22  1]\n",
            " [ 1  1]]\n",
            "Accuracy Decision Tree: 0.92\n",
            "Precision Decision Tree: 0.5\n",
            "Recall Decision Tree: 0.5\n"
          ]
        }
      ]
    },
    {
      "cell_type": "markdown",
      "source": [
        "\n",
        "---\n",
        "### **Naïve Bayesian**"
      ],
      "metadata": {
        "id": "SqZQKK3ExZ66"
      }
    },
    {
      "cell_type": "code",
      "source": [
        "X_train, X_test, y_train, y_test = train_test_split(X, y, test_size=0.2, random_state=42)\n",
        "\n",
        "naive_bayes_classifier = GaussianNB()\n",
        "\n",
        "naive_bayes_classifier.fit(X_train, y_train)\n",
        "\n",
        "y_pred_nb = naive_bayes_classifier.predict(X_test)"
      ],
      "metadata": {
        "id": "OOhZJ4UZxjHP"
      },
      "execution_count": null,
      "outputs": []
    },
    {
      "cell_type": "code",
      "source": [
        "# Valutazione modello\n",
        "\n",
        "# Confusion Matrix\n",
        "conf_matrix_nb = confusion_matrix(y_test, y_pred_nb)\n",
        "\n",
        "# Precision\n",
        "#precision_nb = precision_score(y_test, y_pred_nb)\n",
        "\n",
        "# Recall\n",
        "#recall_nb = recall_score(y_test, y_pred_nb)\n",
        "\n",
        "# Accuracy\n",
        "accuracy_nb = accuracy_score(y_test, y_pred_nb)\n",
        "\n",
        "print(\"Confusion Matrix Naive Bayes:\", conf_matrix_nb)\n",
        "print(\"Accuracy Naive Bayes:\", accuracy_nb)\n",
        "#print(\"Precision Naive Bayes:\", precision_nb)\n",
        "#print(\"Recall Naive Bayes:\", recall_nb)"
      ],
      "metadata": {
        "colab": {
          "base_uri": "https://localhost:8080/"
        },
        "id": "cG0_owHkzNRg",
        "outputId": "957799f4-2ed1-4d16-e6fe-a1bec99414f7"
      },
      "execution_count": null,
      "outputs": [
        {
          "output_type": "stream",
          "name": "stdout",
          "text": [
            "Confusion Matrix Naive Bayes: [[22  1]\n",
            " [ 2  0]]\n",
            "Accuracy Naive Bayes: 0.88\n"
          ]
        }
      ]
    },
    {
      "cell_type": "markdown",
      "source": [
        "\n",
        "---\n",
        "### **Logistic Regression**"
      ],
      "metadata": {
        "id": "vNdwK03d5eS6"
      }
    },
    {
      "cell_type": "code",
      "source": [
        "X_train, X_test, y_train, y_test = train_test_split(X, y, test_size=0.2, random_state=42)\n",
        "\n",
        "logistic_regression = LogisticRegression(solver='sag', max_iter=1000)\n",
        "\n",
        "logistic_regression.fit(X_train, y_train)\n",
        "\n",
        "y_pred_lr = logistic_regression.predict(X_test)\n"
      ],
      "metadata": {
        "colab": {
          "base_uri": "https://localhost:8080/"
        },
        "id": "lIQ8FOb45t7y",
        "outputId": "208e38b9-f1a9-457b-f0f8-98810fbb500d"
      },
      "execution_count": null,
      "outputs": [
        {
          "output_type": "stream",
          "name": "stderr",
          "text": [
            "/usr/local/lib/python3.10/dist-packages/sklearn/linear_model/_sag.py:350: ConvergenceWarning: The max_iter was reached which means the coef_ did not converge\n",
            "  warnings.warn(\n"
          ]
        }
      ]
    },
    {
      "cell_type": "code",
      "source": [
        "# Valutazione modello\n",
        "\n",
        "# Confusion Matrix\n",
        "conf_matrix_lr = confusion_matrix(y_test, y_pred_lr)\n",
        "\n",
        "# Precision\n",
        "#precision_lr = precision_score(y_test, y_pred_lr)\n",
        "\n",
        "# Recall\n",
        "#recall_lr = recall_score(y_test, y_pred_lr)\n",
        "\n",
        "# Accuracy\n",
        "accuracy_lr = accuracy_score(y_test, y_pred_lr)\n",
        "\n",
        "print(\"Confusion Matrix Logistic Regression:\", conf_matrix_lr)\n",
        "print(\"Accuracy Logistic Regression:\", accuracy_lr)\n",
        "#print(\"Precision Logistic Regression:\", precision_lr)\n",
        "#print(\"Recall Logistic Regression:\", recall_lr)"
      ],
      "metadata": {
        "colab": {
          "base_uri": "https://localhost:8080/"
        },
        "id": "vi_U5aXv6GUT",
        "outputId": "e70da46f-dfd3-4eb1-9587-e4db3c4aaf8c"
      },
      "execution_count": null,
      "outputs": [
        {
          "output_type": "stream",
          "name": "stdout",
          "text": [
            "Confusion Matrix Logistic Regression: [[23  0]\n",
            " [ 2  0]]\n",
            "Accuracy Logistic Regression: 0.92\n"
          ]
        }
      ]
    },
    {
      "cell_type": "markdown",
      "source": [
        "## ***Regression***"
      ],
      "metadata": {
        "id": "9D8B4yRLzpxj"
      }
    },
    {
      "cell_type": "markdown",
      "source": [
        "### Loading the Data"
      ],
      "metadata": {
        "id": "CHe2rBhD9VA1"
      }
    },
    {
      "cell_type": "code",
      "source": [
        "import pandas as pd\n",
        "\n",
        "from sklearn.model_selection import train_test_split\n",
        "from sklearn.linear_model import LinearRegression\n",
        "from sklearn.metrics import mean_squared_error\n",
        "from sklearn.preprocessing import LabelEncoder\n",
        "from sklearn.tree import DecisionTreeRegressor"
      ],
      "metadata": {
        "id": "m_UwOqIL38z3"
      },
      "execution_count": null,
      "outputs": []
    },
    {
      "cell_type": "code",
      "source": [
        "DATA_DIR = \"/content/CRIME_Regression\"\n",
        "\n",
        "if not os.path.exists(DATA_DIR):\n",
        "    os.makedirs(DATA_DIR)\n",
        "\n",
        "def ensure_download(url, fname):\n",
        "    \"\"\"\n",
        "    Controlla se il dataset è già presente nella directory dei dati.\n",
        "    Lo scarica se non presente.\n",
        "    \"\"\"\n",
        "    fpath = f\"{DATA_DIR}/{fname}\"\n",
        "    if not os.path.isfile(fpath):\n",
        "        response = requests.get(url)\n",
        "        with open(fpath, 'wb') as file:\n",
        "            file.write(response.content)\n",
        "\n",
        "def load_communities_crime():\n",
        "    url = \"http://archive.ics.uci.edu/ml/machine-learning-databases/communities/communities.data\"\n",
        "    fname = \"communities_crime.csv\"\n",
        "    ensure_download(url, fname)\n",
        "\n",
        "    fpath = f\"{DATA_DIR}/{fname}\"\n",
        "\n",
        "    df = pd.read_csv(fpath, header=None, na_values='?')\n",
        "    df.dropna(inplace=True)\n",
        "\n",
        "    X = df.iloc[:, :127]\n",
        "    y = df.iloc[:, 127]\n",
        "\n",
        "    print(df)\n",
        "    print(\"\\nNumero di righe e colonne del DataFrame:\")\n",
        "    print(df.shape)\n",
        "    print(\"Variabile target:\")\n",
        "    print(y)\n",
        "\n",
        "    return X, y\n",
        "\n",
        "\n",
        "X, y = load_communities_crime()\n"
      ],
      "metadata": {
        "colab": {
          "base_uri": "https://localhost:8080/"
        },
        "id": "2Mm8UPufxbP4",
        "outputId": "85c00125-e79a-4a92-e19d-433240fbe31d"
      },
      "execution_count": null,
      "outputs": [
        {
          "output_type": "stream",
          "name": "stdout",
          "text": [
            "      0      1        2                 3    4     5     6     7     8    \\\n",
            "16     36    1.0   1000.0        Albanycity    1  0.15  0.31  0.40  0.63   \n",
            "23     19  193.0  93926.0     SiouxCitycity    1  0.11  0.43  0.04  0.89   \n",
            "33     51  680.0  47672.0     Lynchburgcity    1  0.09  0.43  0.51  0.58   \n",
            "68     34   23.0  58200.0    PerthAmboycity    1  0.05  0.59  0.23  0.39   \n",
            "74      9    9.0  46520.0       Meridentown    1  0.08  0.39  0.08  0.85   \n",
            "...   ...    ...      ...               ...  ...   ...   ...   ...   ...   \n",
            "1880   34   39.0  40350.0        Lindencity   10  0.04  0.39  0.39  0.65   \n",
            "1963   36   27.0  59641.0  Poughkeepsiecity   10  0.03  0.32  0.61  0.47   \n",
            "1981    9    9.0  35650.0        Hamdentown   10  0.07  0.38  0.17  0.84   \n",
            "1991    9    9.0  80070.0     Waterburytown   10  0.16  0.37  0.25  0.69   \n",
            "1992   25   17.0  72600.0       Walthamcity   10  0.08  0.51  0.06  0.87   \n",
            "\n",
            "       9    ...   118   119   120   121   122   123  124   125   126   127  \n",
            "16    0.14  ...  0.06  0.39  0.84  0.06  0.06  0.91  0.5  0.88  0.26  0.49  \n",
            "23    0.09  ...  0.16  0.12  0.07  0.04  0.01  0.81  1.0  0.56  0.09  0.63  \n",
            "33    0.04  ...  0.14  0.11  0.19  0.05  0.01  0.75  0.0  0.60  0.10  0.31  \n",
            "68    0.09  ...  0.01  0.73  0.28  0.00  0.02  0.64  0.0  1.00  0.23  0.50  \n",
            "74    0.04  ...  0.07  0.21  0.04  0.02  0.01  0.70  1.0  0.44  0.11  0.14  \n",
            "...    ...  ...   ...   ...   ...   ...   ...   ...  ...   ...   ...   ...  \n",
            "1880  0.09  ...  0.03  0.28  0.32  0.02  0.01  0.85  0.0  0.99  0.19  0.22  \n",
            "1963  0.09  ...  0.01  0.47  0.42  0.07  0.08  0.49  0.0  0.37  1.00  0.45  \n",
            "1981  0.11  ...  0.09  0.13  0.17  0.02  0.01  0.72  0.0  0.62  0.15  0.07  \n",
            "1991  0.04  ...  0.08  0.32  0.18  0.08  0.06  0.78  0.0  0.91  0.28  0.23  \n",
            "1992  0.22  ...  0.03  0.38  0.33  0.02  0.02  0.79  0.0  0.22  0.18  0.19  \n",
            "\n",
            "[123 rows x 128 columns]\n",
            "\n",
            "Numero di righe e colonne del DataFrame:\n",
            "(123, 128)\n",
            "Variabile target:\n",
            "16      0.49\n",
            "23      0.63\n",
            "33      0.31\n",
            "68      0.50\n",
            "74      0.14\n",
            "        ... \n",
            "1880    0.22\n",
            "1963    0.45\n",
            "1981    0.07\n",
            "1991    0.23\n",
            "1992    0.19\n",
            "Name: 127, Length: 123, dtype: float64\n"
          ]
        }
      ]
    },
    {
      "cell_type": "code",
      "source": [
        "# Applicazione label encoding a tutte le colonne categoriche\n",
        "\n",
        "categorical_cols = X.select_dtypes(include=['object']).columns\n",
        "\n",
        "label_encoder = LabelEncoder()\n",
        "\n",
        "for col in categorical_cols:\n",
        "    X[col] = label_encoder.fit_transform(X[col])\n",
        "\n",
        "print(X)\n"
      ],
      "metadata": {
        "colab": {
          "base_uri": "https://localhost:8080/"
        },
        "id": "qu3mnHqlvFEu",
        "outputId": "3a149d8b-7e5e-458f-8554-e93168c61808"
      },
      "execution_count": null,
      "outputs": [
        {
          "output_type": "stream",
          "name": "stdout",
          "text": [
            "      0      1        2    3    4     5     6     7     8     9    ...   117  \\\n",
            "16     36    1.0   1000.0    0    1  0.15  0.31  0.40  0.63  0.14  ...  0.22   \n",
            "23     19  193.0  93926.0   94    1  0.11  0.43  0.04  0.89  0.09  ...  0.29   \n",
            "33     51  680.0  47672.0   52    1  0.09  0.43  0.51  0.58  0.04  ...  0.10   \n",
            "68     34   23.0  58200.0   79    1  0.05  0.59  0.23  0.39  0.09  ...  0.31   \n",
            "74      9    9.0  46520.0   58    1  0.08  0.39  0.08  0.85  0.04  ...  0.31   \n",
            "...   ...    ...      ...  ...  ...   ...   ...   ...   ...   ...  ...   ...   \n",
            "1880   34   39.0  40350.0   50   10  0.04  0.39  0.39  0.65  0.09  ...  0.32   \n",
            "1963   36   27.0  59641.0   85   10  0.03  0.32  0.61  0.47  0.09  ...  0.44   \n",
            "1981    9    9.0  35650.0   36   10  0.07  0.38  0.17  0.84  0.11  ...  0.25   \n",
            "1991    9    9.0  80070.0  110   10  0.16  0.37  0.25  0.69  0.04  ...  0.25   \n",
            "1992   25   17.0  72600.0  107   10  0.08  0.51  0.06  0.87  0.22  ...  0.19   \n",
            "\n",
            "       118   119   120   121   122   123  124   125   126  \n",
            "16    0.06  0.39  0.84  0.06  0.06  0.91  0.5  0.88  0.26  \n",
            "23    0.16  0.12  0.07  0.04  0.01  0.81  1.0  0.56  0.09  \n",
            "33    0.14  0.11  0.19  0.05  0.01  0.75  0.0  0.60  0.10  \n",
            "68    0.01  0.73  0.28  0.00  0.02  0.64  0.0  1.00  0.23  \n",
            "74    0.07  0.21  0.04  0.02  0.01  0.70  1.0  0.44  0.11  \n",
            "...    ...   ...   ...   ...   ...   ...  ...   ...   ...  \n",
            "1880  0.03  0.28  0.32  0.02  0.01  0.85  0.0  0.99  0.19  \n",
            "1963  0.01  0.47  0.42  0.07  0.08  0.49  0.0  0.37  1.00  \n",
            "1981  0.09  0.13  0.17  0.02  0.01  0.72  0.0  0.62  0.15  \n",
            "1991  0.08  0.32  0.18  0.08  0.06  0.78  0.0  0.91  0.28  \n",
            "1992  0.03  0.38  0.33  0.02  0.02  0.79  0.0  0.22  0.18  \n",
            "\n",
            "[123 rows x 127 columns]\n"
          ]
        }
      ]
    },
    {
      "cell_type": "markdown",
      "source": [
        "---\n",
        "\n",
        "\n",
        "### **Linear Regression**"
      ],
      "metadata": {
        "id": "zoytrWXe9fL9"
      }
    },
    {
      "cell_type": "code",
      "source": [
        "X_train, X_test, y_train, y_test = train_test_split(X, y, test_size=0.2, random_state=42)\n",
        "\n",
        "model = LinearRegression()\n",
        "\n",
        "model.fit(X_train, y_train)\n",
        "\n",
        "\n",
        "# Valutazione modello con l'errore quadratico medio(MSE) sul test set\n",
        "y_pred = model.predict(X_test)\n",
        "mse = mean_squared_error(y_test, y_pred)\n",
        "print(\"Mean Squared Error sui dati di test:\", mse)\n",
        "\n",
        "\n"
      ],
      "metadata": {
        "id": "lOnGCNDT7A1p",
        "colab": {
          "base_uri": "https://localhost:8080/"
        },
        "outputId": "b65f3c82-4dc4-4f59-eafd-fd45baa34cd3"
      },
      "execution_count": null,
      "outputs": [
        {
          "output_type": "stream",
          "name": "stdout",
          "text": [
            "Mean Squared Error sui dati di test: 0.09093877179067214\n"
          ]
        }
      ]
    },
    {
      "cell_type": "markdown",
      "source": [
        "---\n",
        "\n",
        "\n",
        "### **Decision Tree**"
      ],
      "metadata": {
        "id": "3N22zIXL-XMO"
      }
    },
    {
      "cell_type": "code",
      "source": [
        "X_train, X_test, y_train, y_test = train_test_split(X, y, test_size=0.2, random_state=42)\n",
        "\n",
        "tree_reg = DecisionTreeRegressor(random_state=42)\n",
        "\n",
        "tree_reg.fit(X_train, y_train)\n",
        "\n",
        "\n",
        "# Valutazione modello con l'errore quadratico medio(MSE) sul test set\n",
        "y_pred = tree_reg.predict(X_test)\n",
        "mse = mean_squared_error(y_test, y_pred)\n",
        "print(\"Mean Squared Error:\", mse)\n"
      ],
      "metadata": {
        "colab": {
          "base_uri": "https://localhost:8080/"
        },
        "id": "XTvR7f86-U-S",
        "outputId": "fa8503e6-0a01-4cd1-afd7-08f463bb6f0b"
      },
      "execution_count": null,
      "outputs": [
        {
          "output_type": "stream",
          "name": "stdout",
          "text": [
            "Mean Squared Error: 0.03628\n"
          ]
        }
      ]
    }
  ]
}