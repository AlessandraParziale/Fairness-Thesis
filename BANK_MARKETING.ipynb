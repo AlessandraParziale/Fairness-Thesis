{
  "nbformat": 4,
  "nbformat_minor": 0,
  "metadata": {
    "colab": {
      "provenance": [],
      "collapsed_sections": [
        "nOPoWZJ6MAzM",
        "dAdKvvaVU7wY",
        "z-0_bPnQL1XJ",
        "lw1cqX18L879",
        "j-KOtvB4PW0a"
      ],
      "gpuType": "T4",
      "authorship_tag": "ABX9TyMsckhuF267kZNj1Grmux1N",
      "include_colab_link": true
    },
    "kernelspec": {
      "name": "python3",
      "display_name": "Python 3"
    },
    "language_info": {
      "name": "python"
    },
    "accelerator": "GPU"
  },
  "cells": [
    {
      "cell_type": "markdown",
      "metadata": {
        "id": "view-in-github",
        "colab_type": "text"
      },
      "source": [
        "<a href=\"https://colab.research.google.com/github/AlessandraParziale/Fairness-Thesis/blob/main/BANK_MARKETING.ipynb\" target=\"_parent\"><img src=\"https://colab.research.google.com/assets/colab-badge.svg\" alt=\"Open In Colab\"/></a>"
      ]
    },
    {
      "cell_type": "markdown",
      "source": [
        "# **BANK MARKETING**\n",
        "[Questi dati sono relativi alle campagne di marketing di un istituto bancario portoghese. Le campagne di marketing erano basate su telefonate. Spesso era necessario più di un contatto con lo stesso cliente per poter affermare se il prodotto sarebbe stato ('sì') o meno ('no') sottoscritto.]"
      ],
      "metadata": {
        "id": "0B2Pq6Z1WsHa"
      }
    },
    {
      "cell_type": "markdown",
      "source": [
        "## ***Classification***"
      ],
      "metadata": {
        "id": "q9RUTaZ-V6L3"
      }
    },
    {
      "cell_type": "markdown",
      "source": [
        "### Loading the Data"
      ],
      "metadata": {
        "id": "nOPoWZJ6MAzM"
      }
    },
    {
      "cell_type": "code",
      "source": [
        "import os\n",
        "import pandas as pd\n",
        "import requests\n",
        "import numpy as np\n",
        "import matplotlib.pyplot as plt\n",
        "\n",
        "from zipfile import ZipFile\n",
        "from sklearn.metrics import silhouette_score\n",
        "from sklearn.cluster import KMeans\n",
        "from sklearn.model_selection import train_test_split\n",
        "from sklearn.ensemble import RandomForestClassifier\n",
        "from sklearn.metrics import precision_score, recall_score, accuracy_score\n",
        "from sklearn.preprocessing import LabelEncoder\n",
        "\n"
      ],
      "metadata": {
        "id": "0qu_iHOwBOW4"
      },
      "execution_count": null,
      "outputs": []
    },
    {
      "cell_type": "code",
      "source": [
        "DATA_DIR = \"/content/BANK_MARKETING-Classification\"\n",
        "\n",
        "if not os.path.exists(DATA_DIR):\n",
        "    os.makedirs(DATA_DIR)\n",
        "\n",
        "def load_bank_marketing():\n",
        "    url = \"https://archive.ics.uci.edu/ml/machine-learning-databases/00222/bank-additional.zip\"\n",
        "    fname = \"bank-marketing.csv\"\n",
        "    fpath = f\"{DATA_DIR}/{fname}\"\n",
        "\n",
        "    if not os.path.isfile(fpath):\n",
        "        r = requests.get(url)\n",
        "        with open(\"tempdataset.zip\", \"wb\") as f:\n",
        "            f.write(r.content)\n",
        "\n",
        "        with ZipFile(\"tempdataset.zip\", \"r\") as z:\n",
        "            z.extract(\"bank-additional/bank-additional-full.csv\")\n",
        "            df = pd.read_csv(z.open(\"bank-additional/bank-additional-full.csv\"), delimiter=\";\", encoding=\"utf-8\")\n",
        "            df.to_csv(fpath, index=False)\n",
        "\n",
        "        os.remove(\"tempdataset.zip\")\n",
        "\n",
        "    df = pd.read_csv(fpath)\n",
        "    df['job'] = df['job'].values\n",
        "    df = df.astype({'job': 'category', 'y': 'category'})\n",
        "\n",
        "    df = df.dropna()\n",
        "\n",
        "    X = df.drop(columns=['y'])\n",
        "    y = df['y']\n",
        "\n",
        "    y.cat.set_categories(['yes', 'no'], ordered=True, inplace=True)\n",
        "\n",
        "    print(X)\n",
        "    num_colonne_X = X.shape[1]\n",
        "    print(\"Numero di colonne nel DataFrame X:\", num_colonne_X)\n",
        "\n",
        "    return X, y\n",
        "\n",
        "\n",
        "X, y = load_bank_marketing()\n"
      ],
      "metadata": {
        "colab": {
          "base_uri": "https://localhost:8080/"
        },
        "id": "4vHiIsTF-pEv",
        "outputId": "c46f42d4-9c9c-4117-89f5-54c1a98991ba"
      },
      "execution_count": null,
      "outputs": [
        {
          "output_type": "stream",
          "name": "stdout",
          "text": [
            "       age          job  marital            education  default housing loan  \\\n",
            "0       56    housemaid  married             basic.4y       no      no   no   \n",
            "1       57     services  married          high.school  unknown      no   no   \n",
            "2       37     services  married          high.school       no     yes   no   \n",
            "3       40       admin.  married             basic.6y       no      no   no   \n",
            "4       56     services  married          high.school       no      no  yes   \n",
            "...    ...          ...      ...                  ...      ...     ...  ...   \n",
            "41183   73      retired  married  professional.course       no     yes   no   \n",
            "41184   46  blue-collar  married  professional.course       no      no   no   \n",
            "41185   56      retired  married    university.degree       no     yes   no   \n",
            "41186   44   technician  married  professional.course       no      no   no   \n",
            "41187   74      retired  married  professional.course       no     yes   no   \n",
            "\n",
            "         contact month day_of_week  duration  campaign  pdays  previous  \\\n",
            "0      telephone   may         mon       261         1    999         0   \n",
            "1      telephone   may         mon       149         1    999         0   \n",
            "2      telephone   may         mon       226         1    999         0   \n",
            "3      telephone   may         mon       151         1    999         0   \n",
            "4      telephone   may         mon       307         1    999         0   \n",
            "...          ...   ...         ...       ...       ...    ...       ...   \n",
            "41183   cellular   nov         fri       334         1    999         0   \n",
            "41184   cellular   nov         fri       383         1    999         0   \n",
            "41185   cellular   nov         fri       189         2    999         0   \n",
            "41186   cellular   nov         fri       442         1    999         0   \n",
            "41187   cellular   nov         fri       239         3    999         1   \n",
            "\n",
            "          poutcome  emp.var.rate  cons.price.idx  cons.conf.idx  euribor3m  \\\n",
            "0      nonexistent           1.1          93.994          -36.4      4.857   \n",
            "1      nonexistent           1.1          93.994          -36.4      4.857   \n",
            "2      nonexistent           1.1          93.994          -36.4      4.857   \n",
            "3      nonexistent           1.1          93.994          -36.4      4.857   \n",
            "4      nonexistent           1.1          93.994          -36.4      4.857   \n",
            "...            ...           ...             ...            ...        ...   \n",
            "41183  nonexistent          -1.1          94.767          -50.8      1.028   \n",
            "41184  nonexistent          -1.1          94.767          -50.8      1.028   \n",
            "41185  nonexistent          -1.1          94.767          -50.8      1.028   \n",
            "41186  nonexistent          -1.1          94.767          -50.8      1.028   \n",
            "41187      failure          -1.1          94.767          -50.8      1.028   \n",
            "\n",
            "       nr.employed  \n",
            "0           5191.0  \n",
            "1           5191.0  \n",
            "2           5191.0  \n",
            "3           5191.0  \n",
            "4           5191.0  \n",
            "...            ...  \n",
            "41183       4963.6  \n",
            "41184       4963.6  \n",
            "41185       4963.6  \n",
            "41186       4963.6  \n",
            "41187       4963.6  \n",
            "\n",
            "[41188 rows x 20 columns]\n",
            "Numero di colonne nel DataFrame X: 20\n"
          ]
        },
        {
          "output_type": "stream",
          "name": "stderr",
          "text": [
            "<ipython-input-3-895d95ce60f7>:32: FutureWarning: The `inplace` parameter in pandas.Categorical.set_categories is deprecated and will be removed in a future version. Removing unused categories will always return a new Categorical object.\n",
            "  y.cat.set_categories(['yes', 'no'], ordered=True, inplace=True)\n"
          ]
        }
      ]
    },
    {
      "cell_type": "code",
      "source": [
        "# Trasformazione variabili categoriche in numeri\n",
        "\n",
        "\n",
        "categorical_cols = X.select_dtypes(include=['category', 'object']).columns\n",
        "\n",
        "label_encoder = LabelEncoder()\n",
        "\n",
        "for col in categorical_cols:\n",
        "    X[col] = label_encoder.fit_transform(X[col])\n",
        "\n",
        "print(X.head())\n"
      ],
      "metadata": {
        "colab": {
          "base_uri": "https://localhost:8080/"
        },
        "id": "FbRriQYAO3fg",
        "outputId": "6dbd03dd-68bf-4ad5-88a6-a42f85ff6a92"
      },
      "execution_count": null,
      "outputs": [
        {
          "output_type": "stream",
          "name": "stdout",
          "text": [
            "   age  job  marital  education  default  housing  loan  contact  month  \\\n",
            "0   56    3        1          0        0        0     0        1      6   \n",
            "1   57    7        1          3        1        0     0        1      6   \n",
            "2   37    7        1          3        0        2     0        1      6   \n",
            "3   40    0        1          1        0        0     0        1      6   \n",
            "4   56    7        1          3        0        0     2        1      6   \n",
            "\n",
            "   day_of_week  duration  campaign  pdays  previous  poutcome  emp.var.rate  \\\n",
            "0            1       261         1    999         0         1           1.1   \n",
            "1            1       149         1    999         0         1           1.1   \n",
            "2            1       226         1    999         0         1           1.1   \n",
            "3            1       151         1    999         0         1           1.1   \n",
            "4            1       307         1    999         0         1           1.1   \n",
            "\n",
            "   cons.price.idx  cons.conf.idx  euribor3m  nr.employed  \n",
            "0          93.994          -36.4      4.857       5191.0  \n",
            "1          93.994          -36.4      4.857       5191.0  \n",
            "2          93.994          -36.4      4.857       5191.0  \n",
            "3          93.994          -36.4      4.857       5191.0  \n",
            "4          93.994          -36.4      4.857       5191.0  \n"
          ]
        }
      ]
    },
    {
      "cell_type": "markdown",
      "source": [
        "----\n",
        "### **Random Perturbation with Random Forest**"
      ],
      "metadata": {
        "id": "dAdKvvaVU7wY"
      }
    },
    {
      "cell_type": "code",
      "source": [
        "# Random Forest sul dataset originale\n",
        "\n",
        "X_train, X_test, y_train, y_test = train_test_split(X, y, test_size=0.2, random_state=42)\n",
        "rf_original = RandomForestClassifier(n_estimators=100, random_state=42)\n",
        "rf_original.fit(X_train, y_train)\n",
        "\n",
        "\n",
        "# Valutazione\n",
        "\n",
        "# Accuracy\n",
        "original_accuracy = accuracy_score(y_test, rf_original.predict(X_test))\n",
        "print(\"Accuracy original dataset:\", original_accuracy)\n",
        "\n",
        "# Precision\n",
        "original_precision = precision_score(y_test, rf_original.predict(X_test), pos_label='yes')\n",
        "print(\"Precision original dataset:\", original_precision)\n",
        "\n",
        "# Recall\n",
        "original_recall = recall_score(y_test, rf_original.predict(X_test), pos_label='yes')\n",
        "print(\"Recall original dataset:\", original_recall)"
      ],
      "metadata": {
        "colab": {
          "base_uri": "https://localhost:8080/"
        },
        "id": "pRpERFoYYdOe",
        "outputId": "62e8e8d1-6da1-49cf-db54-954d1c8974ba"
      },
      "execution_count": null,
      "outputs": [
        {
          "output_type": "stream",
          "name": "stdout",
          "text": [
            "Accuracy original dataset: 0.9133284777858703\n",
            "Precision original dataset: 0.649932157394844\n",
            "Recall original dataset: 0.5122994652406417\n"
          ]
        }
      ]
    },
    {
      "cell_type": "code",
      "source": [
        "# Dataset con Random Perturbation\n",
        "\n",
        "n_perturbations = 6\n",
        "perturbed_datasets = []\n",
        "for _ in range(n_perturbations):\n",
        "    perturbed_X = X_train.copy()\n",
        "    perturbed_X += np.random.normal(loc=0, scale=0.01, size=perturbed_X.shape)\n",
        "    perturbed_datasets.append(perturbed_X)"
      ],
      "metadata": {
        "id": "hVnprkI4YnS5"
      },
      "execution_count": null,
      "outputs": []
    },
    {
      "cell_type": "code",
      "source": [
        "# Random Forest + Valutazione di tutti i dataset con Random Perturbation\n",
        "\n",
        "perturbed_accuracies = []\n",
        "perturbed_precisions = []\n",
        "perturbed_recalls = []\n",
        "\n",
        "for perturbed_X in perturbed_datasets:\n",
        "    rf_perturbed = RandomForestClassifier(n_estimators=100, random_state=42)\n",
        "    rf_perturbed.fit(perturbed_X, y_train)\n",
        "\n",
        "    perturbed_accuracy = accuracy_score(y_test, rf_perturbed.predict(X_test))\n",
        "    perturbed_accuracies.append(perturbed_accuracy)\n",
        "\n",
        "    perturbed_precision = precision_score(y_test, rf_perturbed.predict(X_test), pos_label='yes')\n",
        "    perturbed_precisions.append(perturbed_precision)\n",
        "\n",
        "    perturbed_recall = recall_score(y_test, rf_perturbed.predict(X_test), pos_label='yes')\n",
        "    perturbed_recalls.append(perturbed_recall)\n",
        "\n",
        "mean_perturbed_accuracy = np.mean(perturbed_accuracies)\n",
        "print(\"Accuracy datasets with Random Perturbation:\", mean_perturbed_accuracy)\n",
        "mean_perturbed_precision = np.mean(perturbed_precision)\n",
        "print(\"Precision datasets with Random Perturbation:\", mean_perturbed_precision)\n",
        "mean_perturbed_recall = np.mean(perturbed_recall)\n",
        "print(\"Recall datasets with Random Perturbation:\", mean_perturbed_recall)\n",
        "\n"
      ],
      "metadata": {
        "colab": {
          "base_uri": "https://localhost:8080/"
        },
        "id": "XF3pCMMYWFv_",
        "outputId": "63f6a392-58a2-43f5-ff39-f2caab4a9805"
      },
      "execution_count": null,
      "outputs": [
        {
          "output_type": "stream",
          "name": "stdout",
          "text": [
            "Accuracy datasets with Random Perturbation: 0.9162418062636563\n",
            "Precision datasets with Random Perturbation: 0.6829268292682927\n",
            "Recall datasets with Random Perturbation: 0.509090909090909\n"
          ]
        }
      ]
    },
    {
      "cell_type": "markdown",
      "source": [
        "## ***Clustering***"
      ],
      "metadata": {
        "id": "88zr-u-G-poS"
      }
    },
    {
      "cell_type": "markdown",
      "source": [
        "### Loading the Data"
      ],
      "metadata": {
        "id": "lRrxt3ezVcYE"
      }
    },
    {
      "cell_type": "code",
      "source": [
        "import os\n",
        "import pandas as pd\n",
        "import requests\n",
        "\n",
        "from zipfile import ZipFile\n",
        "from sklearn.preprocessing import StandardScaler\n",
        "from sklearn.cluster import KMeans\n",
        "from sklearn.preprocessing import LabelEncoder\n",
        "from scipy.spatial.distance import cdist"
      ],
      "metadata": {
        "id": "fiYybtB8Vhyr"
      },
      "execution_count": null,
      "outputs": []
    },
    {
      "cell_type": "code",
      "source": [
        "DATA_DIR = \"/content/BANK_MARKETING-Clustering\"\n",
        "\n",
        "if not os.path.exists(DATA_DIR):\n",
        "    os.makedirs(DATA_DIR)\n",
        "\n",
        "def load_bank_marketing():\n",
        "    url = \"https://archive.ics.uci.edu/ml/machine-learning-databases/00222/bank-additional.zip\"\n",
        "    fname = \"bank-marketing.csv\"\n",
        "    fpath = f\"{DATA_DIR}/{fname}\"\n",
        "\n",
        "    if not os.path.isfile(fpath):\n",
        "        r = requests.get(url)\n",
        "        with open(\"tempdataset.zip\", \"wb\") as f:\n",
        "            f.write(r.content)\n",
        "\n",
        "        with ZipFile(\"tempdataset.zip\", \"r\") as z:\n",
        "            z.extract(\"bank-additional/bank-additional-full.csv\")\n",
        "            df = pd.read_csv(z.open(\"bank-additional/bank-additional-full.csv\"), delimiter=\";\", encoding=\"utf-8\")\n",
        "            df.to_csv(fpath, index=False)\n",
        "\n",
        "        os.remove(\"tempdataset.zip\")\n",
        "\n",
        "    df = pd.read_csv(fpath)\n",
        "\n",
        "    X = df.dropna()\n",
        "    print(X.head())\n",
        "\n",
        "    return X\n",
        "\n",
        "\n",
        "X = load_bank_marketing()\n",
        "\n"
      ],
      "metadata": {
        "colab": {
          "base_uri": "https://localhost:8080/"
        },
        "id": "H6jmZDrCVXmE",
        "outputId": "f8c42791-e5a0-4d46-aad1-fe282229f170"
      },
      "execution_count": null,
      "outputs": [
        {
          "output_type": "stream",
          "name": "stdout",
          "text": [
            "   age        job  marital    education  default housing loan    contact  \\\n",
            "0   56  housemaid  married     basic.4y       no      no   no  telephone   \n",
            "1   57   services  married  high.school  unknown      no   no  telephone   \n",
            "2   37   services  married  high.school       no     yes   no  telephone   \n",
            "3   40     admin.  married     basic.6y       no      no   no  telephone   \n",
            "4   56   services  married  high.school       no      no  yes  telephone   \n",
            "\n",
            "  month day_of_week  ...  campaign  pdays  previous     poutcome emp.var.rate  \\\n",
            "0   may         mon  ...         1    999         0  nonexistent          1.1   \n",
            "1   may         mon  ...         1    999         0  nonexistent          1.1   \n",
            "2   may         mon  ...         1    999         0  nonexistent          1.1   \n",
            "3   may         mon  ...         1    999         0  nonexistent          1.1   \n",
            "4   may         mon  ...         1    999         0  nonexistent          1.1   \n",
            "\n",
            "   cons.price.idx  cons.conf.idx  euribor3m  nr.employed   y  \n",
            "0          93.994          -36.4      4.857       5191.0  no  \n",
            "1          93.994          -36.4      4.857       5191.0  no  \n",
            "2          93.994          -36.4      4.857       5191.0  no  \n",
            "3          93.994          -36.4      4.857       5191.0  no  \n",
            "4          93.994          -36.4      4.857       5191.0  no  \n",
            "\n",
            "[5 rows x 21 columns]\n"
          ]
        }
      ]
    },
    {
      "cell_type": "code",
      "source": [
        "# Trasformazione variabili categoriche in numeri\n",
        "\n",
        "\n",
        "categorical_cols = X.select_dtypes(include=['category', 'object']).columns\n",
        "\n",
        "label_encoder = LabelEncoder()\n",
        "\n",
        "for col in categorical_cols:\n",
        "    X[col] = label_encoder.fit_transform(X[col])\n",
        "\n",
        "num_colonne_X = X.shape[1]\n",
        "print(\"Numero di colonne nel DataFrame X dopo l'encoding:\", num_colonne_X)\n",
        "\n",
        "print(X.head())\n"
      ],
      "metadata": {
        "colab": {
          "base_uri": "https://localhost:8080/"
        },
        "id": "quqE0uUMWWUd",
        "outputId": "1fe86232-8142-41d5-86fc-ac926ce33479"
      },
      "execution_count": null,
      "outputs": [
        {
          "output_type": "stream",
          "name": "stdout",
          "text": [
            "Numero di colonne nel DataFrame X dopo l'encoding: 21\n",
            "   age  job  marital  education  default  housing  loan  contact  month  \\\n",
            "0   56    3        1          0        0        0     0        1      6   \n",
            "1   57    7        1          3        1        0     0        1      6   \n",
            "2   37    7        1          3        0        2     0        1      6   \n",
            "3   40    0        1          1        0        0     0        1      6   \n",
            "4   56    7        1          3        0        0     2        1      6   \n",
            "\n",
            "   day_of_week  ...  campaign  pdays  previous  poutcome  emp.var.rate  \\\n",
            "0            1  ...         1    999         0         1           1.1   \n",
            "1            1  ...         1    999         0         1           1.1   \n",
            "2            1  ...         1    999         0         1           1.1   \n",
            "3            1  ...         1    999         0         1           1.1   \n",
            "4            1  ...         1    999         0         1           1.1   \n",
            "\n",
            "   cons.price.idx  cons.conf.idx  euribor3m  nr.employed  y  \n",
            "0          93.994          -36.4      4.857       5191.0  0  \n",
            "1          93.994          -36.4      4.857       5191.0  0  \n",
            "2          93.994          -36.4      4.857       5191.0  0  \n",
            "3          93.994          -36.4      4.857       5191.0  0  \n",
            "4          93.994          -36.4      4.857       5191.0  0  \n",
            "\n",
            "[5 rows x 21 columns]\n"
          ]
        }
      ]
    },
    {
      "cell_type": "markdown",
      "source": [
        "---\n",
        "### **K-means**"
      ],
      "metadata": {
        "id": "z-0_bPnQL1XJ"
      }
    },
    {
      "cell_type": "code",
      "source": [
        "# Metodo del gomito (Elbow Method)\n",
        "\n",
        "\n",
        "inertia = []\n",
        "k_values = range(1, 11)\n",
        "\n",
        "# Calcolo inertia per ogni valore di k\n",
        "for k in k_values:\n",
        "    kmeans = KMeans(n_clusters=k, random_state=42)\n",
        "    kmeans.fit(X)\n",
        "    inertia.append(kmeans.inertia_)\n",
        "\n",
        "# Grafico\n",
        "plt.plot(k_values, inertia, marker='o')\n",
        "plt.xlabel('Cluster Number')\n",
        "plt.ylabel('Inertia')\n",
        "plt.title('Elbow Method for KMeans')\n",
        "plt.show()\n"
      ],
      "metadata": {
        "colab": {
          "base_uri": "https://localhost:8080/",
          "height": 832
        },
        "id": "gzuZUt8rBPf3",
        "outputId": "cb376440-70ba-4e98-b712-7509f2623bc6"
      },
      "execution_count": null,
      "outputs": [
        {
          "output_type": "stream",
          "name": "stderr",
          "text": [
            "/usr/local/lib/python3.10/dist-packages/sklearn/cluster/_kmeans.py:870: FutureWarning: The default value of `n_init` will change from 10 to 'auto' in 1.4. Set the value of `n_init` explicitly to suppress the warning\n",
            "  warnings.warn(\n",
            "/usr/local/lib/python3.10/dist-packages/sklearn/cluster/_kmeans.py:870: FutureWarning: The default value of `n_init` will change from 10 to 'auto' in 1.4. Set the value of `n_init` explicitly to suppress the warning\n",
            "  warnings.warn(\n",
            "/usr/local/lib/python3.10/dist-packages/sklearn/cluster/_kmeans.py:870: FutureWarning: The default value of `n_init` will change from 10 to 'auto' in 1.4. Set the value of `n_init` explicitly to suppress the warning\n",
            "  warnings.warn(\n",
            "/usr/local/lib/python3.10/dist-packages/sklearn/cluster/_kmeans.py:870: FutureWarning: The default value of `n_init` will change from 10 to 'auto' in 1.4. Set the value of `n_init` explicitly to suppress the warning\n",
            "  warnings.warn(\n",
            "/usr/local/lib/python3.10/dist-packages/sklearn/cluster/_kmeans.py:870: FutureWarning: The default value of `n_init` will change from 10 to 'auto' in 1.4. Set the value of `n_init` explicitly to suppress the warning\n",
            "  warnings.warn(\n",
            "/usr/local/lib/python3.10/dist-packages/sklearn/cluster/_kmeans.py:870: FutureWarning: The default value of `n_init` will change from 10 to 'auto' in 1.4. Set the value of `n_init` explicitly to suppress the warning\n",
            "  warnings.warn(\n",
            "/usr/local/lib/python3.10/dist-packages/sklearn/cluster/_kmeans.py:870: FutureWarning: The default value of `n_init` will change from 10 to 'auto' in 1.4. Set the value of `n_init` explicitly to suppress the warning\n",
            "  warnings.warn(\n",
            "/usr/local/lib/python3.10/dist-packages/sklearn/cluster/_kmeans.py:870: FutureWarning: The default value of `n_init` will change from 10 to 'auto' in 1.4. Set the value of `n_init` explicitly to suppress the warning\n",
            "  warnings.warn(\n",
            "/usr/local/lib/python3.10/dist-packages/sklearn/cluster/_kmeans.py:870: FutureWarning: The default value of `n_init` will change from 10 to 'auto' in 1.4. Set the value of `n_init` explicitly to suppress the warning\n",
            "  warnings.warn(\n",
            "/usr/local/lib/python3.10/dist-packages/sklearn/cluster/_kmeans.py:870: FutureWarning: The default value of `n_init` will change from 10 to 'auto' in 1.4. Set the value of `n_init` explicitly to suppress the warning\n",
            "  warnings.warn(\n"
          ]
        },
        {
          "output_type": "display_data",
          "data": {
            "text/plain": [
              "<Figure size 640x480 with 1 Axes>"
            ],
            "image/png": "[encoded data removed]"
          },
          "metadata": {}
        }
      ]
    },
    {
      "cell_type": "code",
      "source": [
        "# K-Means con 4 cluster\n",
        "\n",
        "kmeans = KMeans(n_clusters=4, random_state=42)\n",
        "kmeans.fit(X)\n",
        "\n",
        "labels = kmeans.labels_\n",
        "print(labels)\n",
        "\n",
        "\n",
        "# Valutazione modello\n",
        "\n",
        "# Coefficiente di Silhouette\n",
        "silhouette_coefficient = silhouette_score(X, labels)\n",
        "print(\"Il coefficiente di Silhouette è:\", silhouette_coefficient)"
      ],
      "metadata": {
        "colab": {
          "base_uri": "https://localhost:8080/"
        },
        "id": "gzzkOqnzKiTb",
        "outputId": "e68d475b-30f0-451b-b951-1cf71abb5b09"
      },
      "execution_count": null,
      "outputs": [
        {
          "output_type": "stream",
          "name": "stderr",
          "text": [
            "/usr/local/lib/python3.10/dist-packages/sklearn/cluster/_kmeans.py:870: FutureWarning: The default value of `n_init` will change from 10 to 'auto' in 1.4. Set the value of `n_init` explicitly to suppress the warning\n",
            "  warnings.warn(\n"
          ]
        },
        {
          "output_type": "stream",
          "name": "stdout",
          "text": [
            "[3 3 3 ... 3 0 3]\n",
            "Il coefficiente di Silhouette è: 0.5650492077260703\n"
          ]
        }
      ]
    },
    {
      "cell_type": "markdown",
      "source": [
        "---\n",
        " ### **K-Center**"
      ],
      "metadata": {
        "id": "lw1cqX18L879"
      }
    },
    {
      "cell_type": "code",
      "source": [
        "# K-Center con 4 cluster\n",
        "\n",
        "def kcenter(X, k):\n",
        "    centers = [X.to_numpy()[0]]\n",
        "    while len(centers) < k:\n",
        "        #Calcolo distanze\n",
        "        distances = cdist(X.to_numpy(), centers).min(axis=1)\n",
        "        #Selezione nuovo centro\n",
        "        new_center = X.to_numpy()[np.argmax(distances)]\n",
        "        # Aggiunta nuovo centro alla lista\n",
        "        centers.append(new_center)\n",
        "    return np.array(centers)\n",
        "\n",
        "k = 4\n",
        "cluster_centers = kcenter(X, k)\n",
        "\n",
        "def assign_clusters(X, cluster_centers):\n",
        "    #Distanze tra ogni punto e tutti i centri dei cluster\n",
        "    distances = cdist(X.to_numpy(), cluster_centers)\n",
        "    #Trovo l'indice del centro più vicino per ciascun punto\n",
        "    cluster_indices = np.argmin(distances, axis=1)\n",
        "\n",
        "    return cluster_indices\n",
        "\n",
        "\n",
        "labels = assign_clusters(X, cluster_centers)\n",
        "print(labels)\n",
        "\n",
        "\n",
        "# Valutazione modello\n",
        "\n",
        "# Coefficiente di Silhouette\n",
        "silhouette_coefficient = silhouette_score(X, labels)\n",
        "print(\"Il coefficiente di Silhouette è:\", silhouette_coefficient)\n"
      ],
      "metadata": {
        "colab": {
          "base_uri": "https://localhost:8080/"
        },
        "id": "PdZHOQTlM8rG",
        "outputId": "a7e1c822-b5c3-4b87-cfdf-fa8afd6d058e"
      },
      "execution_count": null,
      "outputs": [
        {
          "output_type": "stream",
          "name": "stdout",
          "text": [
            "[0 0 0 ... 0 0 0]\n",
            "Il coefficiente di Silhouette è: 0.7257280483073265\n"
          ]
        }
      ]
    },
    {
      "cell_type": "markdown",
      "source": [
        "---\n",
        " ### **K-Median**"
      ],
      "metadata": {
        "id": "j-KOtvB4PW0a"
      }
    },
    {
      "cell_type": "code",
      "source": [
        "# K-Median con 4 cluster\n",
        "\n",
        "def k_median(X, k, max_iters=100):\n",
        "    #Inizializzazione casuale\n",
        "    centroids = X[np.random.choice(range(len(X)), size=k, replace=False)]\n",
        "\n",
        "    for _ in range(max_iters):\n",
        "        #Calcolo distanza tra ogni punto e ogni centroide\n",
        "        distances = np.linalg.norm(X[:, np.newaxis, :] - centroids, axis=2)\n",
        "        #Indice del centroide più vicino per ogni punto\n",
        "        labels = np.argmin(distances, axis=1)\n",
        "        #Calcolo i nuovi centroidi come mediane dei punti assegnati a ciascun cluster\n",
        "        new_centroids = np.array([np.median(X[labels == i], axis=0) for i in range(k)])\n",
        "\n",
        "        if np.allclose(new_centroids, centroids):\n",
        "            break\n",
        "\n",
        "        centroids = new_centroids\n",
        "\n",
        "    return centroids, labels\n",
        "\n",
        "centroids, labels = k_median(X.values, k=4)\n",
        "print(labels)\n",
        "\n",
        "\n",
        "# Valutazione modello\n",
        "\n",
        "# Coefficiente di Silhouette\n",
        "silhouette_coefficient = silhouette_score(X, labels)\n",
        "print(\"Il coefficiente di Silhouette è:\", silhouette_coefficient)\n"
      ],
      "metadata": {
        "colab": {
          "base_uri": "https://localhost:8080/"
        },
        "id": "JNS5GmJ7PZE2",
        "outputId": "f99a850b-9c50-467c-9c33-5eb7d97d3016"
      },
      "execution_count": null,
      "outputs": [
        {
          "output_type": "stream",
          "name": "stdout",
          "text": [
            "[2 2 2 ... 2 3 2]\n",
            "Il coefficiente di Silhouette è: 0.2775141931282663\n"
          ]
        }
      ]
    },
    {
      "cell_type": "code",
      "source": [],
      "metadata": {
        "id": "TcoMhqNMJJoY"
      },
      "execution_count": null,
      "outputs": []
    }
  ]
}